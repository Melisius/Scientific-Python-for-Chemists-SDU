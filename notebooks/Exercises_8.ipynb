{
 "cells": [
  {
   "cell_type": "markdown",
   "metadata": {},
   "source": [
    "# Exercises 8\n",
    "This notebook contains exercises for the eight meeting."
   ]
  },
  {
   "cell_type": "markdown",
   "metadata": {},
   "source": [
    "## More exercises with SciPy\n",
    "These exercises focus mostly on the use of scipy.optimize.minimize.\n",
    "Some of these exercises can be quite difficult, but optimize.minize can be a very powerful tool to be able to use. "
   ]
  },
  {
   "cell_type": "markdown",
   "metadata": {},
   "source": [
    "## Ex 8.1 - functools.partial reminder\n",
    "In this exercise we want to fit some data to a function of the form:\n",
    "\n",
    "$$f(x) = A\\cdot \\sin (B\\cdot x + C)$$"
   ]
  },
  {
   "cell_type": "markdown",
   "metadata": {},
   "source": [
    "EX. Julies spectra?????"
   ]
  },
  {
   "cell_type": "markdown",
   "metadata": {},
   "source": [
    "## Ex 8.2 - Multi-linear fit\n",
    "A widely used method in computational chemistry is called docking.\n",
    "In docking a molecule is placed inside a protein, and the energy is evaluated in a rough way.\n",
    "Where the total energy is given as:\n",
    "\n",
    "$$E_{tot} = Eblagegg + Egeg + Ege$$\n",
    "\n",
    "Often this method yeilds very poor results, and need tuning."
   ]
  },
  {
   "cell_type": "code",
   "execution_count": null,
   "metadata": {},
   "outputs": [],
   "source": []
  },
  {
   "cell_type": "markdown",
   "metadata": {},
   "source": [
    "## Ex 8.3 - Gaussian fit\n",
    "In KE522 you learned about Gaussian basis sets used in quantum chemistry. In praktis complex algorithms are used to make the best basis-set. In this exercise we will investigate the justification learned in KE522 for using Gaussian functions."
   ]
  },
  {
   "cell_type": "markdown",
   "metadata": {},
   "source": [
    "## Ex 8.4 - Fitting charges ? ?? ? "
   ]
  },
  {
   "cell_type": "code",
   "execution_count": null,
   "metadata": {},
   "outputs": [],
   "source": []
  }
 ],
 "metadata": {
  "kernelspec": {
   "display_name": "Python 3",
   "language": "python",
   "name": "python3"
  },
  "language_info": {
   "codemirror_mode": {
    "name": "ipython",
    "version": 3
   },
   "file_extension": ".py",
   "mimetype": "text/x-python",
   "name": "python",
   "nbconvert_exporter": "python",
   "pygments_lexer": "ipython3",
   "version": "3.6.5"
  }
 },
 "nbformat": 4,
 "nbformat_minor": 2
}
