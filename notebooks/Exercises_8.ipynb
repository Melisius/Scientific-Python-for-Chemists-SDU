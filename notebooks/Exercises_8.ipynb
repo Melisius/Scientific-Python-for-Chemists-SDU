{
 "cells": [
  {
   "cell_type": "markdown",
   "metadata": {},
   "source": [
    "# Exercises 7\n",
    "This notebook contains exercies for the seventh meeting.\n",
    "These exercises are about plotting data.\n",
    "The data is based on lab exercises from courses at SDU.\n",
    "\n",
    "Suggested reading:\n",
    "- []()\n",
    "\n",
    "\n",
    "The suggested reading is a mix of what we have talked about, and what we will talk about next time."
   ]
  },
  {
   "cell_type": "markdown",
   "metadata": {},
   "source": [
    "## More about SciPy optimization / fitting"
   ]
  },
  {
   "cell_type": "code",
   "execution_count": null,
   "metadata": {},
   "outputs": [],
   "source": []
  }
 ],
 "metadata": {
  "kernelspec": {
   "display_name": "Python 3",
   "language": "python",
   "name": "python3"
  },
  "language_info": {
   "codemirror_mode": {
    "name": "ipython",
    "version": 3
   },
   "file_extension": ".py",
   "mimetype": "text/x-python",
   "name": "python",
   "nbconvert_exporter": "python",
   "pygments_lexer": "ipython3",
   "version": "3.6.4"
  }
 },
 "nbformat": 4,
 "nbformat_minor": 2
}
