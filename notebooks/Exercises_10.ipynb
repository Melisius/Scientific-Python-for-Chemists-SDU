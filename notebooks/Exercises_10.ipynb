{
 "cells": [
  {
   "cell_type": "markdown",
   "metadata": {},
   "source": [
    "# Exercises 10\n",
    "This notebook contains exercises for the tenth meeting."
   ]
  },
  {
   "cell_type": "markdown",
   "metadata": {},
   "source": [
    "## Ex 10.1 - Bacterial Growth"
   ]
  },
  {
   "cell_type": "markdown",
   "metadata": {},
   "source": [
    "For this exercise we will consider a video of bacterial growth.\n",
    "The video have been downloaded from Youtube ([source](https://www.youtube.com/watch?v=gEwzDydciWc)).\n",
    "The downloaded video is located in \"data/bacteriagrowth.mp4\".\n",
    "Like last time we will start by extracting all of the frames into separate files.\n",
    "The code to do this is given below:"
   ]
  },
  {
   "cell_type": "code",
   "execution_count": null,
   "metadata": {},
   "outputs": [],
   "source": [
    "import cv2\n",
    "save_folder = \"FOLDER_TO_SAVE_IMAGES_IN\" # Remember the folder have to exist before running the code\n",
    "vidcap = cv2.VideoCapture('data/bacteriagrowth.mp4')\n",
    "success,image = vidcap.read()\n",
    "count = 0\n",
    "success = True\n",
    "while success:\n",
    "    cv2.imwrite(save_folder+\"/frame%d.png\" % count, image)\n",
    "    success,image = vidcap.read()\n",
    "    count += 1"
   ]
  },
  {
   "cell_type": "markdown",
   "metadata": {},
   "source": [
    "Try load in frame 60, and make a plot of it.\n",
    "\n",
    "- Hint: import skimage.io\n",
    "- Hint: skimage.io.imread(PATH_TO_IMAGE)\n",
    "- Hint: plt.imshow(IMAGE)"
   ]
  },
  {
   "cell_type": "markdown",
   "metadata": {},
   "source": [
    "For this exercise we are do not need the colors of the image.\n",
    "Convert the image to gray-scale and make a plot of it.\n",
    "\n",
    "- Hint: skimage.color.rgb2gray(IMAGE)\n",
    "- Hint: cmap=\"gray\" as an arguemt for plt.imshow() will show the image in gray colors."
   ]
  },
  {
   "cell_type": "markdown",
   "metadata": {},
   "source": [
    "Now we want to separate the cells from the background.\n",
    "Just as last time use the otsu_threshold to try to separate what we want from the background.\n",
    "Use the closing() method to get a True/False array of the image based on the threshold, and make a plot of the True/False image.\n",
    "\n",
    "- Hint: from skimage.filters import threshold_otsu\n",
    "- Hint: threshold_otsu(IMAGE)\n",
    "- Hint: from skimage.morphology import closing\n",
    "- Hint: closing(IMAGE \"<\" OR \">\" THRESHOLD)"
   ]
  },
  {
   "cell_type": "markdown",
   "metadata": {},
   "source": [
    "The yellow part of the image in the plot, is what have been marked with True i.e. what we have marked as being cell. \n",
    "Try change the threshold untill you get what you would expect."
   ]
  },
  {
   "cell_type": "markdown",
   "metadata": {},
   "source": [
    "Now we want to measure the total size of cell in the picture. \n",
    "The total size of cell is proportional to the area of the picture covered in cell.\n",
    "By using the closing() method above we made an image that is described by True and False values.\n",
    "We might remember that if we multiply this kind of array by 1 all the True values will become 1 and all the False values will become 0.\n",
    "The total area of cell can be found as the total sum of our image after it have been multiplied by 1."
   ]
  },
  {
   "cell_type": "markdown",
   "metadata": {},
   "source": [
    "Now loop over the frames between 0 and 66.\n",
    "Save the values in an array and make a plot of the total area of cell over the frames."
   ]
  },
  {
   "cell_type": "markdown",
   "metadata": {},
   "source": [
    "We know from biology that cell growth follows an exponential trend:\n",
    "\n",
    "$$\\text{Area}_\\text{cell} = A\\cdot \\exp\\left( B\\cdot \\text{time} \\right)$$\n",
    "\n",
    "Use scipy.optimize to fit an exponential function to the data extracted from the frames.\n",
    "Make a plot of the fitted function on top of the extracted data.\n",
    "\n",
    "- Hint: Fitting to an exponential function can be sensitive to inital guess. If the fit dosen't look good try setting the inital guess of A to around 100 and the inital guess of B  to around 0.05."
   ]
  },
  {
   "cell_type": "code",
   "execution_count": null,
   "metadata": {},
   "outputs": [],
   "source": []
  }
 ],
 "metadata": {
  "kernelspec": {
   "display_name": "Python 3",
   "language": "python",
   "name": "python3"
  },
  "language_info": {
   "codemirror_mode": {
    "name": "ipython",
    "version": 3
   },
   "file_extension": ".py",
   "mimetype": "text/x-python",
   "name": "python",
   "nbconvert_exporter": "python",
   "pygments_lexer": "ipython3",
   "version": "3.6.4"
  }
 },
 "nbformat": 4,
 "nbformat_minor": 2
}
