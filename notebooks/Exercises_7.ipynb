{
 "cells": [
  {
   "cell_type": "markdown",
   "metadata": {},
   "source": [
    "# Exercises 7\n",
    "This notebook contains exercises for the seventh meeting.\n",
    "These exercises are about function fitting and function optimization.\n",
    "\n",
    "Suggested reading:\n",
    "- [Scipy: high-level scientific computing](http://www.scipy-lectures.org/intro/scipy.html)"
   ]
  },
  {
   "cell_type": "markdown",
   "metadata": {},
   "source": [
    "## SciPy Optimize and SciPy Stats\n",
    "Some exercises about SciPy."
   ]
  },
  {
   "cell_type": "markdown",
   "metadata": {},
   "source": [
    "## Ex 7.1\n",
    "Use the stats.linregress function from the SciPy library to try to make a linear-fit on the points; \n",
    "\n",
    "x = [1, 2, 3, 4, 5, 6, 7, 8] \n",
    "\n",
    "y = [1.1, 1.9, 3.2, 4.4, 4.6, 6.0, 7.3, 8.5]\n",
    "\n",
    "After doing the linear-fit make a plot of the points and the linear-fit.\n",
    "\n",
    "- Hint: from scipy import stats\n",
    "- Hint: stats.linregress return four values. The slope, the intercept, the r-value, the p-value and the standard deviation. "
   ]
  },
  {
   "cell_type": "markdown",
   "metadata": {},
   "source": [
    "## Ex 7.2\n",
    "Use the optimize.minimize function from the SciPy library to find the minimum value of the following function:"
   ]
  },
  {
   "cell_type": "code",
   "execution_count": 1,
   "metadata": {},
   "outputs": [],
   "source": [
    "def f(x):\n",
    "    return 15*x*x - 3*x + 1"
   ]
  },
  {
   "cell_type": "markdown",
   "metadata": {},
   "source": [
    "- Hint: from scipy import optimize\n",
    "- Hint: optimize.minimze takes atleast two arguemnts. The function and an initial guess. Alot of more options can be set, these can be found in the [documentation for optimize.minimize](https://docs.scipy.org/doc/scipy/reference/generated/scipy.optimize.minimize.html#scipy.optimize.minimize).\n",
    "- Hint: minimize returns a dictionary of results. Do \"results\".keys() to see how to get the results."
   ]
  },
  {
   "cell_type": "markdown",
   "metadata": {},
   "source": [
    "## Ex 7.3\n",
    "Use the optimize.root function from the SciPy library to find the roots of the following function:"
   ]
  },
  {
   "cell_type": "code",
   "execution_count": 2,
   "metadata": {},
   "outputs": [],
   "source": [
    "def f(x):\n",
    "    return x*x*x+15*x*x-25"
   ]
  },
  {
   "cell_type": "markdown",
   "metadata": {},
   "source": [
    "- Hint: optimize.root takes atleast two arguemnts. The function and an initial guess.\n",
    "- Hint: optimize.root return a dictionary of results. Do \"results\".keys() to see how to get the results.\n",
    "\n",
    "Try plot the function to get an idea of where the roots are, try change your initial guess till you have found all the roots. Think about how to do this in a more automated way."
   ]
  },
  {
   "cell_type": "markdown",
   "metadata": {},
   "source": [
    "## Ex 7.4\n",
    "This exercise is hard becuase it contains alot of new concepts, just learned today. Though it is important that you get through this exercise (ask alot of questions), becuase the concepts will be used in the next exercise session, and during the image-analysis exercises later.\n",
    "\n",
    "If we want to fit other functions than linear functions to our data, optimize.minimze can be used if we turn our problem into a minimization problem.\n",
    "We wil try to make a linear-fit of the data in Ex 7.1 by the use of optimize.minimze.\n",
    "\n",
    "We want to find the best $a$ and $b$ for:\n",
    "\n",
    "$$y = a\\cdot x + b$$\n",
    "\n",
    "This can also be formulated as:\n",
    "\n",
    "$$0 = a\\cdot x + b - y $$\n",
    "\n",
    "Write a function that returns the total error between $a\\cdot x + b$ and $y$, for a given $a$ and $b$ value.\n",
    "\n",
    "- Hint: This can be confusing at first. Take a look at the suggested solution. Close down the suggested solution and try to write your own solution.\n",
    "\n",
    "Rewrite the function such the variables $a$ and $b$ are in a list.\n",
    "\n",
    "- Hint: This can be confusing at first. Take a look at the suggested solution. Close down the suggested solution and try to write your own solution.\n",
    "\n",
    "Now use functools.partial() to tell what the $x$ values and $y$ values are.\n",
    "\n",
    "- Hint: This can be confusing at first. Take a look at the suggested solution. Close down the suggested solution and try to write your own solution.\n",
    "\n",
    "optimize.minimize can now be uesd as before.\n",
    "\n",
    "Make a plot of your fit and the data."
   ]
  }
 ],
 "metadata": {
  "kernelspec": {
   "display_name": "Python 3",
   "language": "python",
   "name": "python3"
  },
  "language_info": {
   "codemirror_mode": {
    "name": "ipython",
    "version": 3
   },
   "file_extension": ".py",
   "mimetype": "text/x-python",
   "name": "python",
   "nbconvert_exporter": "python",
   "pygments_lexer": "ipython3",
   "version": "3.6.8"
  }
 },
 "nbformat": 4,
 "nbformat_minor": 2
}
