{
 "cells": [
  {
   "cell_type": "markdown",
   "metadata": {},
   "source": [
    "# Excercises 1\n",
    "This notebook contains excercies for the first meeting.\n",
    "The excercises are based heavily on excercises found at:\n",
    "[Python Basic (Part -I)](https://www.w3resource.com/python-exercises/python-basic-exercises.php)\n",
    "\n",
    "A great resource for remembering how different types work in Python can be found at:\n",
    "[A REAL Python cheat sheet for beginners](https://learnxinyminutes.com/docs/python3/)\n",
    "\n",
    "Depending on fast these excercises can be done, more excercises will be added. For great excercises that gets continuously harder see [Project Euler](https://projecteuler.net/)\n",
    "\n",
    "Suggested reading:\n",
    "- [The Python language](http://www.scipy-lectures.org/intro/language/python_language.html) Section 1.2.2, 1.2.3 and 1.2.4\n",
    "- [Simple Python Data](http://interactivepython.org/runestone/static/thinkcspy/SimplePythonData/toctree.html) All of the sections, understanding the basics are very important!\n",
    "- [Functions](http://interactivepython.org/runestone/static/thinkcspy/Functions/toctree.html) Section 6.1, 6.2, 6.3, 6.4, 6.5 and 6.6\n",
    "- [More About Iteration](http://interactivepython.org/runestone/static/thinkcspy/MoreAboutIteration/toctree.html) Section 8.1, 8.2, 8.3, 8.5, 8.6, 8.7 and 8.8"
   ]
  },
  {
   "cell_type": "markdown",
   "metadata": {},
   "source": [
    "## Types, intergers and floats\n",
    "Think about what the results will be before executing the code"
   ]
  },
  {
   "cell_type": "code",
   "execution_count": null,
   "metadata": {},
   "outputs": [],
   "source": [
    "print(1+1)\n",
    "print(8-1)\n",
    "print(10*2)\n",
    "print(35/5)\n",
    "print(5//3)\n",
    "print(5.0//3.0)\n",
    "print(-5//3)\n",
    "print(-5.0//3)\n",
    "print(10.0/3)\n",
    "print(7%3)\n",
    "print(2**3)\n",
    "print((1+3)*2)"
   ]
  },
  {
   "cell_type": "code",
   "execution_count": null,
   "metadata": {},
   "outputs": [],
   "source": [
    "print(not True)\n",
    "print(not False)\n",
    "print(True and False)\n",
    "print(False or True)"
   ]
  },
  {
   "cell_type": "code",
   "execution_count": null,
   "metadata": {},
   "outputs": [],
   "source": [
    "print(1 == 1)\n",
    "print(2 == 1)\n",
    "print(1 != 1)\n",
    "print(2 != 1)\n",
    "print(1 < 10)\n",
    "print(1 > 10)\n",
    "print(2 <= 2)\n",
    "print(2 >= 2)\n",
    "print(1 < 2 < 3)\n",
    "print(2 < 3 < 2)"
   ]
  },
  {
   "cell_type": "markdown",
   "metadata": {},
   "source": [
    "## Strings"
   ]
  },
  {
   "cell_type": "code",
   "execution_count": null,
   "metadata": {},
   "outputs": [],
   "source": [
    "print(\"hello\")\n",
    "print(\"hello\"+\"world\")\n",
    "print(\"hello\"[3]+\"world\"[2])"
   ]
  },
  {
   "cell_type": "markdown",
   "metadata": {},
   "source": [
    "## Lists"
   ]
  },
  {
   "cell_type": "markdown",
   "metadata": {},
   "source": [
    "### Ex 0.1\n",
    "Make a list [1, 2, 4, 3] by using the append() method, starting from li = []."
   ]
  },
  {
   "cell_type": "markdown",
   "metadata": {},
   "source": [
    "### Ex 0.2\n",
    "On the list li = [1, 2, 3, 4] remove the value two, by using the remove() method."
   ]
  },
  {
   "cell_type": "markdown",
   "metadata": {},
   "source": [
    "### Ex 0.3\n",
    "Acces the first entry in color_list = [\"Red\",\"Green\",\"White\" ,\"Black\"]"
   ]
  },
  {
   "cell_type": "markdown",
   "metadata": {},
   "source": [
    "### Ex 0.4\n",
    "Acces the last entry in color_list = [\"Red\",\"Green\",\"White\" ,\"Black\"]"
   ]
  },
  {
   "cell_type": "markdown",
   "metadata": {},
   "source": [
    "## Functions"
   ]
  },
  {
   "cell_type": "markdown",
   "metadata": {},
   "source": [
    "### Ex 1.1\n",
    "Write a function that calculates the area of a circle from the radius"
   ]
  },
  {
   "cell_type": "markdown",
   "metadata": {},
   "source": [
    "### Ex 1.2\n",
    "Write a function that calculates the volume of a sphere from the radius"
   ]
  },
  {
   "cell_type": "markdown",
   "metadata": {},
   "source": [
    "### Ex 1.3\n",
    "Write a function that takes a number, n, and returns n+nn+nnn"
   ]
  },
  {
   "cell_type": "markdown",
   "metadata": {},
   "source": [
    "### Ex 1.4\n",
    "Write a function that takes a number, n, and return its difference to 17. If the number is greater than 17 return double the absolute difference."
   ]
  },
  {
   "cell_type": "markdown",
   "metadata": {},
   "source": [
    "### Ex 1.5\n",
    "Write a function that calcule the sum of three given numbers. If the value of the three given numbers are equal return three times the sum."
   ]
  },
  {
   "cell_type": "markdown",
   "metadata": {},
   "source": [
    "### Ex 1.6\n",
    "Write a function that takes in a sting. The function returns the string where \"Is\" has been added to the front. If the given string already begins with \"Is\" \n",
    "then return the string unchanged."
   ]
  },
  {
   "cell_type": "markdown",
   "metadata": {},
   "source": [
    "### Ex 1.7\n",
    "Write a function to count the number of fours in a given list."
   ]
  },
  {
   "cell_type": "markdown",
   "metadata": {},
   "source": [
    "### Ex 1.8\n",
    "Write a function that print all even numbers from a given numbers list in the same order and stop the printing if any numbers that come after 237 in the sequence."
   ]
  },
  {
   "cell_type": "markdown",
   "metadata": {},
   "source": [
    "### Ex 1.9\n",
    "Write a function to compute the greatest common divisor (GCD) of two positive integers."
   ]
  },
  {
   "cell_type": "markdown",
   "metadata": {},
   "source": [
    "### Ex 1.10\n",
    "Write a function to get the least common multiple (LCM) of two positive integers."
   ]
  },
  {
   "cell_type": "markdown",
   "metadata": {},
   "source": [
    "### Ex 1.11\n",
    "Write a function to compute the distance between the points (x1, y1) and (x2, y2). "
   ]
  },
  {
   "cell_type": "markdown",
   "metadata": {},
   "source": [
    "### Ex 1.12\n",
    "Write a function to convert pressure in kilopascals to pounds per square inch, millimeter of mercury (mmHg) and atmopheric pressure."
   ]
  },
  {
   "cell_type": "markdown",
   "metadata": {},
   "source": [
    "### Ex 1.13\n",
    "Write a function to calculate the sum of the digits in an integer."
   ]
  },
  {
   "cell_type": "markdown",
   "metadata": {},
   "source": [
    "### Ex 1.14\n",
    "Write a function to remove the first item from a specified list."
   ]
  },
  {
   "cell_type": "markdown",
   "metadata": {},
   "source": [
    "### Ex 1.15\n",
    "Write a function to check if a n/m is an integer. "
   ]
  }
 ],
 "metadata": {
  "kernelspec": {
   "display_name": "Python 3",
   "language": "python",
   "name": "python3"
  },
  "language_info": {
   "codemirror_mode": {
    "name": "ipython",
    "version": 3
   },
   "file_extension": ".py",
   "mimetype": "text/x-python",
   "name": "python",
   "nbconvert_exporter": "python",
   "pygments_lexer": "ipython3",
   "version": "3.6.4"
  }
 },
 "nbformat": 4,
 "nbformat_minor": 2
}
