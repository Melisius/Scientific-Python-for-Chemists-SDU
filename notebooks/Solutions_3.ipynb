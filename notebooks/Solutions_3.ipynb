{
 "cells": [
  {
   "cell_type": "markdown",
   "metadata": {},
   "source": [
    "### Ex 3.1"
   ]
  },
  {
   "cell_type": "code",
   "execution_count": 1,
   "metadata": {},
   "outputs": [
    {
     "name": "stdout",
     "output_type": "stream",
     "text": [
      "A == B [ True  True  True]\n",
      "A == C [False False  True]\n",
      "A > C [False False False]\n"
     ]
    }
   ],
   "source": [
    "import numpy as np\n",
    "\n",
    "A = np.array([1,2,3])\n",
    "B = np.array([1,2,3])\n",
    "C = np.array([2,1,3])\n",
    "\n",
    "print(\"A == B\", A == B)\n",
    "print(\"A == C\", A == C)\n",
    "print(\"A > C\", A > B)"
   ]
  },
  {
   "cell_type": "markdown",
   "metadata": {},
   "source": [
    "### Ex 3.2"
   ]
  },
  {
   "cell_type": "code",
   "execution_count": 2,
   "metadata": {},
   "outputs": [
    {
     "name": "stdout",
     "output_type": "stream",
     "text": [
      "[ 2  5 10]\n"
     ]
    }
   ],
   "source": [
    "import numpy as np\n",
    "\n",
    "def funktion(x):\n",
    "    return x*x + 1\n",
    "\n",
    "A = np.array([1,2,3])\n",
    "B = funktion(A)\n",
    "print(B)"
   ]
  },
  {
   "cell_type": "markdown",
   "metadata": {},
   "source": [
    "### Ex 3.3"
   ]
  },
  {
   "cell_type": "code",
   "execution_count": 3,
   "metadata": {},
   "outputs": [
    {
     "name": "stdout",
     "output_type": "stream",
     "text": [
      "[[0. 1. 0. 1. 0. 1. 0. 1.]\n",
      " [1. 0. 1. 0. 1. 0. 1. 0.]\n",
      " [0. 1. 0. 1. 0. 1. 0. 1.]\n",
      " [1. 0. 1. 0. 1. 0. 1. 0.]\n",
      " [0. 1. 0. 1. 0. 1. 0. 1.]\n",
      " [1. 0. 1. 0. 1. 0. 1. 0.]\n",
      " [0. 1. 0. 1. 0. 1. 0. 1.]\n",
      " [1. 0. 1. 0. 1. 0. 1. 0.]]\n"
     ]
    }
   ],
   "source": [
    "import numpy as np\n",
    "\n",
    "Checker_board_array = np.zeros((8,8))\n",
    "Checker_board_array[1::2,::2] = 1\n",
    "Checker_board_array[::2,1::2] = 1\n",
    "print(Checker_board_array)"
   ]
  },
  {
   "cell_type": "markdown",
   "metadata": {},
   "source": [
    "### Ex 3.4"
   ]
  },
  {
   "cell_type": "code",
   "execution_count": 4,
   "metadata": {},
   "outputs": [
    {
     "name": "stdout",
     "output_type": "stream",
     "text": [
      "[[0. 0. 0. 0. 0. 0.]\n",
      " [1. 1. 1. 1. 1. 1.]\n",
      " [2. 2. 2. 2. 2. 2.]\n",
      " [3. 3. 3. 3. 3. 3.]\n",
      " [4. 4. 4. 4. 4. 4.]\n",
      " [5. 5. 5. 5. 5. 5.]]\n"
     ]
    }
   ],
   "source": [
    "import numpy as np\n",
    "\n",
    "def value_equal_row_index(some_array):\n",
    "    for i in range(0, len(some_array)):\n",
    "        some_array[i,:] = i\n",
    "    return some_array\n",
    "\n",
    "A = np.zeros((6,6))\n",
    "A = value_equal_row_index(A)\n",
    "print(A)"
   ]
  },
  {
   "cell_type": "markdown",
   "metadata": {},
   "source": [
    "### Ex 3.5"
   ]
  },
  {
   "cell_type": "code",
   "execution_count": 5,
   "metadata": {},
   "outputs": [
    {
     "name": "stdout",
     "output_type": "stream",
     "text": [
      "[ 0  1  2  3  4  5  6  7  8  9 34 35 36 37 38 39 40 41 42 43 44 45 46 47\n",
      " 48 49 50 51 52 53 54 55 56 57 58 59 60 61 62 63 64 65 66 67 68 69 70 71\n",
      " 72 73 74 75 76 77 78 79 80 81 82 83 84 85 86 87 88 89 90 91 92 93 94 95\n",
      " 96 97 98 99]\n"
     ]
    }
   ],
   "source": [
    "import numpy as np\n",
    "\n",
    "def remove_numbers(some_array, remove_from, remove_to):\n",
    "    return some_array[np.logical_not(np.logical_and(some_array>=remove_from, some_array<=remove_to))]\n",
    "\n",
    "A = np.arange(0, 100, 1)\n",
    "A = remove_numbers(A, 10, 33)\n",
    "print(A)\n"
   ]
  },
  {
   "cell_type": "markdown",
   "metadata": {},
   "source": [
    "### Ex 3.6"
   ]
  },
  {
   "cell_type": "code",
   "execution_count": 7,
   "metadata": {},
   "outputs": [
    {
     "name": "stdout",
     "output_type": "stream",
     "text": [
      "<_io.TextIOWrapper name='data/file_for_exercise.txt' mode='r' encoding='UTF-8'>\n"
     ]
    }
   ],
   "source": [
    "opened_file = open(\"data/file_for_exercise.txt\",\"r\")\n",
    "print(opened_file)\n",
    "opened_file.close()"
   ]
  },
  {
   "cell_type": "markdown",
   "metadata": {},
   "source": [
    "### Ex 3.7"
   ]
  },
  {
   "cell_type": "code",
   "execution_count": 8,
   "metadata": {},
   "outputs": [
    {
     "name": "stdout",
     "output_type": "stream",
     "text": [
      "I am a file.\n",
      "\n",
      "I have no real content.\n",
      "\n",
      "Here are some numbers:\n",
      "\n",
      "1\n",
      "\n",
      "2\n",
      "\n",
      "3\n",
      "\n",
      "4\n",
      "\n",
      "5\n",
      "\n",
      "6\n",
      "\n",
      "7\n",
      "\n",
      "8\n",
      "\n",
      "9\n",
      "\n",
      "10\n"
     ]
    }
   ],
   "source": [
    "opened_file = open(\"data/file_for_exercise.txt\",\"r\")\n",
    "readable_file = list(opened_file)\n",
    "for line in readable_file:\n",
    "    print(line)\n",
    "opened_file.close()"
   ]
  },
  {
   "cell_type": "markdown",
   "metadata": {},
   "source": [
    "### Ex 3.8"
   ]
  },
  {
   "cell_type": "code",
   "execution_count": 9,
   "metadata": {},
   "outputs": [
    {
     "name": "stdout",
     "output_type": "stream",
     "text": [
      "80\n"
     ]
    }
   ],
   "source": [
    "opened_file = open(\"data/file_for_exercise.txt\",\"r\")\n",
    "readable_file = list(opened_file)\n",
    "\n",
    "number_characters = 0\n",
    "for line in readable_file:\n",
    "    for character in line:\n",
    "        number_characters += 1\n",
    "print(number_characters)\n",
    "opened_file.close()"
   ]
  },
  {
   "cell_type": "markdown",
   "metadata": {},
   "source": [
    "### Ex 3.9"
   ]
  },
  {
   "cell_type": "code",
   "execution_count": 15,
   "metadata": {},
   "outputs": [
    {
     "name": "stdout",
     "output_type": "stream",
     "text": [
      "55.0\n"
     ]
    }
   ],
   "source": [
    "opened_file = open(\"data/file_for_exercise.txt\",\"r\")\n",
    "readable_file = list(opened_file)\n",
    "\n",
    "sum_of_numbers = 0\n",
    "for line in readable_file:\n",
    "    for item in line.split():\n",
    "        # Found .isdigit() by using google. Google is your friend!\n",
    "        if item.isdigit() == True:\n",
    "            sum_of_numbers += float(line)\n",
    "print(sum_of_numbers)\n",
    "opened_file.close()"
   ]
  },
  {
   "cell_type": "markdown",
   "metadata": {},
   "source": [
    "### Ex 3.10"
   ]
  },
  {
   "cell_type": "code",
   "execution_count": 20,
   "metadata": {},
   "outputs": [],
   "source": [
    "opened_file = open(\"newfile.txt\",\"w+\")\n",
    "opened_file.write(\"I am a newly written file\")\n",
    "opened_file.close()"
   ]
  },
  {
   "cell_type": "code",
   "execution_count": null,
   "metadata": {},
   "outputs": [],
   "source": []
  }
 ],
 "metadata": {
  "kernelspec": {
   "display_name": "Python 3",
   "language": "python",
   "name": "python3"
  },
  "language_info": {
   "codemirror_mode": {
    "name": "ipython",
    "version": 3
   },
   "file_extension": ".py",
   "mimetype": "text/x-python",
   "name": "python",
   "nbconvert_exporter": "python",
   "pygments_lexer": "ipython3",
   "version": "3.6.4"
  }
 },
 "nbformat": 4,
 "nbformat_minor": 2
}
