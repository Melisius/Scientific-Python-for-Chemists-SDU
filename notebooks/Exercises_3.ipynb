{
 "cells": [
  {
   "cell_type": "markdown",
   "metadata": {},
   "source": [
    "# Exercises 3\n",
    "This notebook contains exercies for the third meeting.\n",
    "The exercises are based based heavily on exercises found at:\n",
    "- [Python NumPy Array Object](https://www.w3resource.com/python-exercises/numpy/index.php)\n",
    "- [Python File Input Output](https://www.w3resource.com/python-exercises/file/index.php)\n",
    "\n",
    "Suggested reading:\n",
    "- [NumPy: creating and manipulating numerical data](http://www.scipy-lectures.org/intro/numpy/index.html) Section 1.3.1 and 1.3.2 (Was also suggested in Excercises 2 notebook) \n",
    "- [Chapter 3: The NumPy Library](https://link-springer-com.proxy1-bib.sdu.dk/content/pdf/10.1007%2F978-1-4842-0958-5.pdf) (Was also suggested in Excercises 2 notebook) \n",
    "- [11. Files](http://interactivepython.org/runestone/static/thinkcspy/Files/toctree.html)\n",
    "\n",
    "The suggested reading is a mix of what we have talked about, and what we will talk about next time. "
   ]
  },
  {
   "cell_type": "markdown",
   "metadata": {},
   "source": [
    "## Some more NumPy\n",
    "More exercises about using the NumPy library."
   ]
  },
  {
   "cell_type": "markdown",
   "metadata": {},
   "source": [
    "### Ex 3.1\n",
    "What happens if you compare two NumPy arrays? I.e. use the operators \"<\", \"==\" etc."
   ]
  },
  {
   "cell_type": "markdown",
   "metadata": {},
   "source": [
    "### Ex 3.2\n",
    "What happens if you give a NumPy arrays as the argument \"x\" in the function below:"
   ]
  },
  {
   "cell_type": "code",
   "execution_count": null,
   "metadata": {},
   "outputs": [],
   "source": [
    "def funktion(x):\n",
    "    return x*x + 1"
   ]
  },
  {
   "cell_type": "markdown",
   "metadata": {},
   "source": [
    "### Ex 3.3\n",
    "By using slicing write a code that makes an 8 by 8 NumPy array, that is filled with 1 and 0 in a checkerboard pattern."
   ]
  },
  {
   "cell_type": "markdown",
   "metadata": {},
   "source": [
    "### Ex 3.4\n",
    "Write a function that makes an array where all the elemets have the value of the row index."
   ]
  },
  {
   "cell_type": "markdown",
   "metadata": {},
   "source": [
    "### Ex 3.5\n",
    "To the Numpy array A = np.array([2,3,4,6,7,10]), write a program that adds the missing numbers, such that it have the numbers from 1 to 12."
   ]
  },
  {
   "cell_type": "markdown",
   "metadata": {},
   "source": [
    "### Ex 3.5\n",
    "Write a function to remove values in a NumPy array in the range X to Y."
   ]
  },
  {
   "cell_type": "markdown",
   "metadata": {},
   "source": [
    "## File I/O\n",
    "Some exercises about how to load files into Python, and how to write new files from Python."
   ]
  },
  {
   "cell_type": "markdown",
   "metadata": {},
   "source": [
    "### Ex 3.6"
   ]
  },
  {
   "cell_type": "markdown",
   "metadata": {},
   "source": []
  },
  {
   "cell_type": "markdown",
   "metadata": {},
   "source": []
  },
  {
   "cell_type": "markdown",
   "metadata": {},
   "source": []
  },
  {
   "cell_type": "markdown",
   "metadata": {},
   "source": []
  },
  {
   "cell_type": "markdown",
   "metadata": {},
   "source": []
  },
  {
   "cell_type": "markdown",
   "metadata": {},
   "source": []
  },
  {
   "cell_type": "code",
   "execution_count": null,
   "metadata": {},
   "outputs": [],
   "source": []
  }
 ],
 "metadata": {
  "kernelspec": {
   "display_name": "Python 3",
   "language": "python",
   "name": "python3"
  },
  "language_info": {
   "codemirror_mode": {
    "name": "ipython",
    "version": 3
   },
   "file_extension": ".py",
   "mimetype": "text/x-python",
   "name": "python",
   "nbconvert_exporter": "python",
   "pygments_lexer": "ipython3",
   "version": "3.6.4"
  }
 },
 "nbformat": 4,
 "nbformat_minor": 2
}
