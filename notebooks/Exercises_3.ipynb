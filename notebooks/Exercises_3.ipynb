{
 "cells": [
  {
   "cell_type": "markdown",
   "metadata": {},
   "source": [
    "# Exercises 3\n",
    "This notebook contains exercies for the third meeting.\n",
    "The exercises are based heavily on exercises found at:\n",
    "- [Python NumPy Array Object](https://www.w3resource.com/python-exercises/numpy/index.php)\n",
    "\n",
    "Suggested reading:\n",
    "- [NumPy: creating and manipulating numerical data](http://www.scipy-lectures.org/intro/numpy/index.html) Section 1.3.1 and 1.3.2 (Was also suggested in Excercises 2 notebook) .\n",
    "- [Chapter 3: The NumPy Library](https://link-springer-com.proxy1-bib.sdu.dk/content/pdf/10.1007%2F978-1-4842-0958-5.pdf) (Was also suggested in Excercises 2 notebook).\n",
    "- [11. Files](http://interactivepython.org/runestone/static/thinkcspy/Files/toctree.html) All the sections.\n",
    "\n",
    "The suggested reading is a mix of what we have talked about, and what we will talk about next time. "
   ]
  },
  {
   "cell_type": "markdown",
   "metadata": {},
   "source": [
    "## Some more NumPy\n",
    "More exercises about using the NumPy library."
   ]
  },
  {
   "cell_type": "markdown",
   "metadata": {},
   "source": [
    "### Ex 3.1\n",
    "What happens if you compare two NumPy arrays? I.e. use the operators \"<\", \"==\" etc."
   ]
  },
  {
   "cell_type": "markdown",
   "metadata": {},
   "source": [
    "### Ex 3.2\n",
    "What happens if you give a NumPy array as the argument \"x\" in the function below:"
   ]
  },
  {
   "cell_type": "code",
   "execution_count": null,
   "metadata": {},
   "outputs": [],
   "source": [
    "def funktion(x):\n",
    "    return x*x + 1"
   ]
  },
  {
   "cell_type": "markdown",
   "metadata": {},
   "source": [
    "### Ex 3.3\n",
    "By using slicing write a code that makes an 8 by 8 NumPy array, that is filled with 1 and 0 in a checkerboard pattern."
   ]
  },
  {
   "cell_type": "markdown",
   "metadata": {},
   "source": [
    "### Ex 3.4\n",
    "Write a function that makes an array where all the elemets have the value of the row index."
   ]
  },
  {
   "cell_type": "markdown",
   "metadata": {},
   "source": [
    "### Ex 3.5\n",
    "Write a function to remove values in a NumPy array in the range X to Y."
   ]
  },
  {
   "cell_type": "markdown",
   "metadata": {},
   "source": [
    "## File I/O\n",
    "Some exercises about how to load files into Python, and how to write new files from Python."
   ]
  },
  {
   "cell_type": "markdown",
   "metadata": {},
   "source": [
    "### Ex 3.6\n",
    "Use open(\"FILENAME\", \"r\") to open the file \"data/file_for_exercise.txt\". What happens if you print the variable you stored the file in?"
   ]
  },
  {
   "cell_type": "markdown",
   "metadata": {},
   "source": [
    "### Ex 3.7\n",
    "Try make the opened file into a list object, and print every line in the file."
   ]
  },
  {
   "cell_type": "markdown",
   "metadata": {},
   "source": [
    "### Ex 3.8\n",
    "Count the number of characters in the file."
   ]
  },
  {
   "cell_type": "markdown",
   "metadata": {},
   "source": [
    "### Ex 3.9\n",
    "Sum all the numbers in the file."
   ]
  },
  {
   "cell_type": "markdown",
   "metadata": {},
   "source": [
    "### Ex 3.10\n",
    "Write a file with the content \"I am a newly written file\"."
   ]
  }
 ],
 "metadata": {
  "kernelspec": {
   "display_name": "Python 3",
   "language": "python",
   "name": "python3"
  },
  "language_info": {
   "codemirror_mode": {
    "name": "ipython",
    "version": 3
   },
   "file_extension": ".py",
   "mimetype": "text/x-python",
   "name": "python",
   "nbconvert_exporter": "python",
   "pygments_lexer": "ipython3",
   "version": "3.6.8"
  }
 },
 "nbformat": 4,
 "nbformat_minor": 2
}
