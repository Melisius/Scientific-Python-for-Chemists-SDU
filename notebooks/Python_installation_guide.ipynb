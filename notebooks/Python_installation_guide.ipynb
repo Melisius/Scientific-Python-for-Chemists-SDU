{
 "cells": [
  {
   "cell_type": "markdown",
   "metadata": {},
   "source": [
    "# Content:\n",
    "\n",
    "\n",
    "* Conda enviroment in Windows through Anaconda terminal\n",
    "* Conda enviroment in Windows through IDE\n",
    "* Conda enviroment in Windows through Windows Linux Subsystem"
   ]
  },
  {
   "cell_type": "markdown",
   "metadata": {},
   "source": [
    "## Installation with miniconda\n",
    "\n",
    "* Go to Go to https://conda.io/miniconda.html\n",
    "* Choose the appropriate (Python 3.6) installer\n",
    " * If you use a Windows machine, choose 64-bit (exe installer)\n",
    " * If you are on a Mac, choose 64-bit (bash installer)\t\n",
    " * If you are on a Linux machine, choose 64-bit (bash installer)\n",
    "\n",
    "* After the file finishes downloading, run the installation program.\n"
   ]
  },
  {
   "cell_type": "markdown",
   "metadata": {},
   "source": [
    "## How to install new packages\n",
    "When in a conda enviroment the installation of new Python packages are easy. A conda package can be installed by typing the following in a terminal:\n",
    "\n",
    "```python\n",
    " conda install \"package name\"\n",
    "```\n",
    "\n",
    "The python packages we will use can be installed by the following command:\n",
    "\n",
    "```python\n",
    "conda install numpy matplotlib pandas jupyter\n",
    "```\n"
   ]
  },
  {
   "cell_type": "code",
   "execution_count": null,
   "metadata": {},
   "outputs": [],
   "source": []
  }
 ],
 "metadata": {
  "kernelspec": {
   "display_name": "Python 3",
   "language": "python",
   "name": "python3"
  },
  "language_info": {
   "codemirror_mode": {
    "name": "ipython",
    "version": 3
   },
   "file_extension": ".py",
   "mimetype": "text/x-python",
   "name": "python",
   "nbconvert_exporter": "python",
   "pygments_lexer": "ipython3",
   "version": "3.6.3"
  }
 },
 "nbformat": 4,
 "nbformat_minor": 2
}
