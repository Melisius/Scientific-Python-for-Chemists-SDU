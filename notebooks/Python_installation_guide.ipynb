{
 "cells": [
  {
   "cell_type": "markdown",
   "metadata": {},
   "source": [
    "# Content:\n",
    "\n",
    "\n",
    "* Conda enviroment in Windows/OSX through Anaconda\n",
    "* Conda enviroment in Windows/OSX through Miniconda\n",
    "* Conda enviroment in Windows through Windows Linux Subsystem\n",
    "* How to install new packages with conda"
   ]
  },
  {
   "cell_type": "markdown",
   "metadata": {},
   "source": [
    "## Installation with Anaconda (recommended)\n",
    "\n",
    "This installation procedure works for Windows 8, Windows 10 and OSX. Note that this requires 500 MB free diskspace. If diskspace is needed see the Miniconda installation.\n",
    "\n",
    "### For Windows\n",
    "\n",
    "* Download either [64bit](https://repo.continuum.io/archive/Anaconda3-5.0.1-Windows-x86_64.exe) or [32bit](https://repo.continuum.io/archive/Anaconda3-5.0.1-Windows-x86.exe) installer. This installer contains the the conda enviroment for Python 3.6 and alot of usefull Python packages.\n",
    "\n",
    "### For OSX\n",
    "\n",
    "* Download the [64bit](https://repo.continuum.io/archive/Anaconda3-5.0.1-MacOSX-x86_64.pkg) installer. This installer contains the the conda enviroment for Python 3.6 and alot of usefull Python packages. "
   ]
  },
  {
   "cell_type": "markdown",
   "metadata": {},
   "source": [
    "## Installation with Miniconda\n",
    "The Anaconda installation comes with quite a few Python packages preinstalled, the disk requirement for the Anaconda installation is therefore 500 MB. The Miniconda installation only installs the conda enviroment with Python 3.6, all needed packages need to be installed thereafter. This will ofcause save diskspace.\n",
    "\n",
    "### For Windows\n",
    "\n",
    "* Download either [64bit](https://repo.continuum.io/miniconda/Miniconda3-latest-Windows-x86_64.exe) or [32bit](https://repo.continuum.io/miniconda/Miniconda3-latest-Windows-x86.exe) installer. This installer contains the the conda enviroment for Python 3.6.\n",
    "\n",
    "### For OSX\n",
    "\n",
    "* Download the [64bit](https://repo.continuum.io/miniconda/Miniconda3-latest-MacOSX-x86_64.sh) installer. This installer contains the the conda enviroment for Python 3.6."
   ]
  },
  {
   "cell_type": "markdown",
   "metadata": {},
   "source": [
    "## Installation with Windows Linux Subsystem"
   ]
  },
  {
   "cell_type": "markdown",
   "metadata": {},
   "source": [
    "## How to install new packages\n",
    "\n",
    "Not all available Python packages comes with the Anaconda installation, simply because this would require to much diskspace. When using a package in a python script it need to be imported. Below the package \"csvkit\" is tried to be import, but it is not installed:"
   ]
  },
  {
   "cell_type": "code",
   "execution_count": 2,
   "metadata": {},
   "outputs": [
    {
     "ename": "ModuleNotFoundError",
     "evalue": "No module named 'csvkit'",
     "output_type": "error",
     "traceback": [
      "\u001b[0;31m---------------------------------------------------------------------------\u001b[0m",
      "\u001b[0;31mModuleNotFoundError\u001b[0m                       Traceback (most recent call last)",
      "\u001b[0;32m<ipython-input-2-bf3c15d2dbe9>\u001b[0m in \u001b[0;36m<module>\u001b[0;34m()\u001b[0m\n\u001b[0;32m----> 1\u001b[0;31m \u001b[0;32mimport\u001b[0m \u001b[0mcsvkit\u001b[0m\u001b[0;34m\u001b[0m\u001b[0m\n\u001b[0m",
      "\u001b[0;31mModuleNotFoundError\u001b[0m: No module named 'csvkit'"
     ]
    }
   ],
   "source": [
    "import csvkit"
   ]
  },
  {
   "cell_type": "markdown",
   "metadata": {},
   "source": [
    "We can see that no Module with the nane \"csvkit\" was found. Now we can try installing it through the conda enviroment. \"!\" means that we are executing a terminal command instead of executing as a Python script."
   ]
  },
  {
   "cell_type": "code",
   "execution_count": 9,
   "metadata": {},
   "outputs": [
    {
     "name": "stdout",
     "output_type": "stream",
     "text": [
      "Fetching package metadata ...........\n",
      "Solving package specifications: .\n",
      "\n",
      "Package plan for installation in environment /root/miniconda3:\n",
      "\n",
      "The following NEW packages will be INSTALLED:\n",
      "\n",
      "    agate:          1.6.0-py36h1b42258_2 \n",
      "    agate-dbf:      0.2.0-py36hacfe2c2_0 \n",
      "    agate-excel:    0.2.1-py36h4cc37e8_0 \n",
      "    agate-sql:      0.5.2-py36h44b7e2c_0 \n",
      "    csvkit:         1.0.2-py36h1b4c739_0 \n",
      "    dbfread:        2.0.7-py36ha5008bc_0 \n",
      "    et_xmlfile:     1.0.1-py36hd6bccc3_0 \n",
      "    isodate:        0.6.0-py36h3a1d279_0 \n",
      "    jdcal:          1.3-py36h4c697fb_0   \n",
      "    leather:        0.3.3-py36hdd9ea39_0 \n",
      "    openpyxl:       2.4.8-py36h41dd2a8_1 \n",
      "    parsedatetime:  2.4-py36ha668ad1_0   \n",
      "    python-slugify: 1.2.4-py36hc9c72ca_1 \n",
      "    pytimeparse:    1.1.7-py36ha42143c_0 \n",
      "    sqlalchemy:     1.1.13-py36hfb5efd7_0\n",
      "    unidecode:      0.04.21-py36_0       \n",
      "    xlrd:           1.1.0-py36h1db9f0c_1 \n",
      "\n",
      "dbfread-2.0.7- 100% |################################| Time: 0:00:00 184.99 kB/s\n",
      "et_xmlfile-1.0 100% |################################| Time: 0:00:00   1.50 MB/s\n",
      "jdcal-1.3-py36 100% |################################| Time: 0:00:00 668.81 kB/s\n",
      "parsedatetime- 100% |################################| Time: 0:00:00 503.22 kB/s\n",
      "pytimeparse-1. 100% |################################| Time: 0:00:00 838.12 kB/s\n",
      "sqlalchemy-1.1 100% |################################| Time: 0:00:00   4.27 MB/s\n",
      "unidecode-0.04 100% |################################| Time: 0:00:00   4.87 MB/s\n",
      "xlrd-1.1.0-py3 100% |################################| Time: 0:00:00   1.91 MB/s\n",
      "isodate-0.6.0- 100% |################################| Time: 0:00:00 411.29 kB/s\n",
      "leather-0.3.3- 100% |################################| Time: 0:00:00 393.60 kB/s\n",
      "openpyxl-2.4.8 100% |################################| Time: 0:00:00   3.41 MB/s\n",
      "python-slugify 100% |################################| Time: 0:00:00 577.39 kB/s\n",
      "agate-1.6.0-py 100% |################################| Time: 0:00:00 443.91 kB/s\n",
      "agate-dbf-0.2. 100% |################################| Time: 0:00:00 627.30 kB/s\n",
      "agate-excel-0. 100% |################################| Time: 0:00:00 602.91 kB/s\n",
      "agate-sql-0.5. 100% |################################| Time: 0:00:00 702.45 kB/s\n",
      "csvkit-1.0.2-p 100% |################################| Time: 0:00:00 444.86 kB/s\n"
     ]
    }
   ],
   "source": [
    "!conda install csvkit -y"
   ]
  },
  {
   "cell_type": "markdown",
   "metadata": {},
   "source": [
    "Above we can see the details about the installation. Other packages other than \"csvkit\" will be installed to. This is because \"csvkit\" requires these packages to work. Now \"csvkit\" can be imported."
   ]
  },
  {
   "cell_type": "markdown",
   "metadata": {},
   "source": [
    "In general when in a conda enviroment the installation of new Python packages are easy. As shown above a conda package can be installed by typing the following in a terminal:\n",
    "\n",
    "> conda install \"package name\" -y\n",
    "\n",
    "The python packages we will use can be installed by the following command:\n",
    "\n",
    "> conda install numpy scipy seaborn matplotlib pandas jupyter -y\n",
    "\n",
    "Remember if the above commands are executes from a Jupyter notebook to start the command with a \"!\". Many Python packages are often updated. To update all packages installed with conda simply run the command:\n",
    "\n",
    "> conda update --all -y\n"
   ]
  },
  {
   "cell_type": "code",
   "execution_count": null,
   "metadata": {},
   "outputs": [],
   "source": []
  }
 ],
 "metadata": {
  "kernelspec": {
   "display_name": "Python 3",
   "language": "python",
   "name": "python3"
  },
  "language_info": {
   "codemirror_mode": {
    "name": "ipython",
    "version": 3
   },
   "file_extension": ".py",
   "mimetype": "text/x-python",
   "name": "python",
   "nbconvert_exporter": "python",
   "pygments_lexer": "ipython3",
   "version": "3.6.3"
  }
 },
 "nbformat": 4,
 "nbformat_minor": 2
}
