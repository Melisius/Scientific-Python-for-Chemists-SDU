{
 "cells": [
  {
   "cell_type": "markdown",
   "metadata": {},
   "source": [
    "# Exercises 4\n",
    "This notebook contains exercies for the fourth meeting.\n",
    "\n",
    "For the fourth meeting we will focus on doing some exercises. In these exercises we will practice:\n",
    "\n",
    "- if statements\n",
    "- lists\n",
    "- strings\n",
    "- for loops\n",
    "- NumPy arrays\n",
    "- dictionaries\n",
    "- opening a file\n",
    "\n",
    "**Remember that when coding, Google is your very best friend.**"
   ]
  },
  {
   "cell_type": "markdown",
   "metadata": {},
   "source": [
    "## Ex 4.1 - Quadratic Equation Solver\n",
    "In this exercise we will write a function that solves a second order polynomial.\n",
    "A quadratic equation is of the form:\n",
    "\n",
    "$$ 0 = a\\cdot x^2 + b\\cdot x + c $$\n",
    "\n",
    "As we might remember the solution of a quadratic equation is given as:\n",
    "\n",
    "$$ x_\\pm = \\frac{-b\\pm \\sqrt{b^2 - 4\\cdot a\\cdot c}}{2a} $$\n",
    "\n",
    "**Write a function that takes the three coefficients $a$, $b$ and $c$ and returns the two solutions of the quadratic equation.**\n",
    "\n",
    "- Hint: A function can return multiple values if they are comma separated. \"return x1, x2\"\n",
    "\n",
    "**What happens if we let $a=1$, $b=1$ and $c=1$?**\n",
    "\n",
    "We might remember that no solution is defined if the discriminant is less than zero, i.e:\n",
    "\n",
    "$$ b^2 - 4\\cdot a\\cdot c < 0 $$\n",
    "\n",
    "**Modify you function so it prints a reasonable error if the discriminant is below zero.**\n",
    "\n",
    "- Hint: If statement might be useful"
   ]
  },
  {
   "cell_type": "markdown",
   "metadata": {},
   "source": [
    "## Ex 4.2 - Pig Latin Translator\n",
    "> Pig Latin is a language game or argot in which words in English are altered, usually by adding a fabricated suffix or by moving the onset or initial consonant or consonant cluster of a word to the end of the word and adding a vocalic syllable to create such a suffix. \n",
    "\n",
    "-- [wikipedia](https://en.wikipedia.org/wiki/Pig_Latin)\n",
    "\n",
    "The rules of Pig Latin are as follows:\n",
    "\n",
    "- If a word begins with a consonant, all letters before the first vowel are placed at the end of the word. Then an \"ay\" is added to the end of the word. I.e.: \"banana\" should be turned into \"ananabay\" or \"trash\" should be turned into \"ashtray\".\n",
    "\n",
    "- If a word begins with a vowel, \"way\" is added to the end of the word. I.e.: \"explain\" should be turned into \"explainway\".\n",
    "\n",
    "**Write a function that takes a string of text and turns it into Pig Latin.**\n",
    "\n",
    "- Hint: \"some string\".split(), will take a string and put every word into a list. Try it and print the result to make sure you know what it does.\n",
    "- Hint: You can use \"[start:stop]\" to get letters from a string.\n",
    "- Hint: You can merge two strings by using \"+\".\n",
    "\n",
    "**What happens if a \",\" is present in the string you use as an input?**\n",
    "\n",
    "**Modify your function so \",\", \".\", \"?\", \"!\" and \";\" are still after the words.**"
   ]
  },
  {
   "cell_type": "markdown",
   "metadata": {},
   "source": [
    "## Ex 4.3 - Counting words\n",
    "In this exercise we will count the occurrence of all of the different words in a text.\n",
    "\n",
    "**Load in the textfile in data called wannabe.txt and store it in a list**\n",
    "\n",
    "- Hint: Use open(\"path_to_file\", \"r\"). Make a list with text by using either .readlines() or .read().\n",
    "\n",
    "**Write a function that returns a dictionary with the number of occurrence of each word**\n",
    "\n",
    "- Hint: Check if a word is in the dictionary. If not add it. If it is increment the number of occurrence by one.\n",
    "\n",
    "Does you function count \"Slam\", \"slam\" and \"slam,\" as the same word?\n",
    "\n",
    "**Modify your function to count these kind of words as the same**\n",
    "\n",
    "- Hint: \"some string\".lower() will make all the letters lower case.\n",
    "- Hint: Check if the last letter is \",\", \")\" or if the first letter is \"(\"."
   ]
  },
  {
   "cell_type": "markdown",
   "metadata": {},
   "source": [
    "## Ex 4.4 - Matrix Transposer\n",
    "A matrix transpose is defined as:\n",
    "\n",
    "$$ A_{i,j}^T = A_{j,i}  $$\n",
    "\n",
    "In a more graphical way it is defined as:\n",
    "\n",
    "![https://leonardoaraujosantos.gitbooks.io/artificial-inteligence/content/linear_algebra.html](data/pictures/transpose-matrix.jpg)\n",
    "\n",
    "**Write a function that returns the transpose of a matrix.**\n",
    "\n",
    "- Hint: A 2D matrix can be represented as a NumPy array. np.zeros((N,M)) makes an array of the size N rows and M coloums.\n",
    "\n",
    "**What happens if you give your function a matrix that is not square?**\n",
    "\n",
    "**Modify your function to be able to handle matrices of N rows and M coloums.**\n",
    "\n",
    "- Hint: len(Array) gives the number of rows. len(Array[0]) gives the number of coloums."
   ]
  },
  {
   "cell_type": "markdown",
   "metadata": {},
   "source": [
    "## Ex 4.5 - Matrix Multiplier\n",
    "A matrix multiplication of the matrix $A$ and the matrix $B$ that gives the matrix $C$ is defined as:\n",
    "\n",
    "$$ c_{i,j} = \\sum_{k=1}^m a_{i,k}b_{k,j} $$\n",
    "\n",
    "In a more graphical way it is defined as:\n",
    "\n",
    "![http://www.javatechblog.com/java/java-program-for-matrix-multiplication/](data/pictures/matrix-multiplication.jpg)\n",
    "\n",
    "**Write a function that makes a matrix multiplication of two numpy arrays.** \n",
    "\n",
    "For a matrix multiplication to be defined the number of coloums of the first matrix have to be equal to the number of rows of the second matrix.\n",
    "\n",
    "**Modify your function to print an error if the number of coloums of the first matrix is NOT equal to the number of rows of the second matrix**"
   ]
  },
  {
   "cell_type": "markdown",
   "metadata": {},
   "source": [
    "## Ex 4.6 - Brute Forcing Probabilities\n",
    "The maths of probabilties can be very hard, but if the problem is small enough we can use a computer to check all combinations (then we don't have to do the maths). The probability is defined as:\n",
    "\n",
    "$$ \\text{Probability} = \\frac{\\text{number of wanted outcomes}}{\\text{number of total outcomes}} $$\n",
    "\n",
    "**Write a code that calculate the probability of rolling one or more sixes with two dice.**\n",
    "\n",
    "- Hint: Do nested loops."
   ]
  },
  {
   "cell_type": "code",
   "execution_count": 2,
   "metadata": {},
   "outputs": [
    {
     "name": "stdout",
     "output_type": "stream",
     "text": [
      "1 1\n",
      "1 2\n",
      "2 1\n",
      "2 2\n"
     ]
    }
   ],
   "source": [
    "# Nested loops means loops under loops i.e.:\n",
    "for i in range(1, 3):\n",
    "    for j in range(1, 3):\n",
    "        print(i, j)"
   ]
  },
  {
   "cell_type": "markdown",
   "metadata": {},
   "source": [
    "- Hint: Store the found dice combinations in a NumPy array or a list.\n",
    "- Hint: Check if any of the dice for every pair is a sixer. Remember to count how many you find.\n",
    "\n",
    "**Now write a code to calculate the probability of rolling one and only one sixer with six dice.**\n",
    "\n",
    "- Hint: Use 6 loops under each other."
   ]
  },
  {
   "cell_type": "markdown",
   "metadata": {},
   "source": [
    "## Ex 4.7 - Estimating $\\pi$ with random numbers\n",
    "In this exercise we will use random numbers to estimate $\\pi$. We know that the area of a circle is found as:\n",
    "\n",
    "$$ A_{\\text{circle}} = \\pi\\cdot r^2 $$\n",
    "\n",
    "We also know that the area of a square is given as:\n",
    "\n",
    "$$ A_{\\text{square}} = a^2 $$\n",
    "\n",
    "We wil know pick random points inside the square. I.e. we are looking a this situation:\n",
    "\n",
    "![http://www.stealthcopter.com/blog/2009/09/python-calculating-pi-using-random-numbers/](data/pictures/pypi1.png)\n",
    "\n",
    "We can write the ratio of the two areas as:\n",
    "\n",
    "$$ \\frac{A_{\\text{circle}}}{A_{\\text{square}}} = \\frac{\\pi\\cdot r^2}{a^2} $$\n",
    "\n",
    "As it can be seen in the picture the circle is inclosed in the square, thus $a = 2r$:\n",
    "\n",
    "$$ \\frac{A_{\\text{circle}}}{A_{\\text{square}}} = \\frac{\\pi\\cdot r^2}{(2r)^2} = \\frac{\\pi\\cdot r^2}{4r^2} = \\frac{\\pi}{4}$$\n",
    "\n",
    "Thus we find:\n",
    "\n",
    "$$\\pi = 4\\frac{A_{\\text{circle}}}{A_{\\text{square}}}$$\n",
    "\n",
    "We can take the number of points inside the square and inside the circle as a measure of the area of these two. I.e:\n",
    "\n",
    "$$ A_{\\text{circle}} \\propto N_{\\text{points inside circle}} $$\n",
    "\n",
    "and,\n",
    "\n",
    "$$ A_{\\text{square}} \\propto N_{\\text{points inside square}} $$\n",
    "\n",
    "This now gives that:\n",
    "\n",
    "$$\\pi = 4\\frac{N_{\\text{points inside circle}}}{N_{\\text{points inside square}}}$$\n",
    "\n",
    "For now you don't have to be 100 % certain of the maths, but just be ready to accept this last equation to be true.\n",
    "\n",
    "**Write a code to estimate $\\pi$ by using random numbers.**\n",
    "\n",
    "- Hint: [np.random.uniform(low, high)](https://docs.scipy.org/doc/numpy/reference/generated/numpy.random.uniform.html) gives a random number between start and end. If you want $r=1$ set low = -1 and high = 1. Then the circle will be centered in (0, 0). Remember to pick a random $x$ coordinate and a random $y$ coordinate.\n",
    "- Hint: Number of points picked = $N_{\\text{points inside square}}$.\n",
    "- Hint: Number of points inside the circle can be calculated by using the equation of a circle:\n",
    "\n",
    "$$ r^2 = (x-x_0)^2 + (y-y_0)^2 $$\n",
    "\n",
    "This mean that all points inside the circle will be given as:\n",
    "\n",
    "$$ r \\geq \\sqrt{(x-x_0)^2 + (y-y_0)^2} $$\n",
    "\n",
    "If you are picking random numbers between -1 and 1, then $r=1$, $x_0 = 0$ and $y_0 = 0$."
   ]
  },
  {
   "cell_type": "code",
   "execution_count": null,
   "metadata": {},
   "outputs": [],
   "source": []
  }
 ],
 "metadata": {
  "kernelspec": {
   "display_name": "Python 3",
   "language": "python",
   "name": "python3"
  },
  "language_info": {
   "codemirror_mode": {
    "name": "ipython",
    "version": 3
   },
   "file_extension": ".py",
   "mimetype": "text/x-python",
   "name": "python",
   "nbconvert_exporter": "python",
   "pygments_lexer": "ipython3",
   "version": "3.6.4"
  }
 },
 "nbformat": 4,
 "nbformat_minor": 2
}
