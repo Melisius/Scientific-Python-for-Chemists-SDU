{
 "cells": [
  {
   "cell_type": "markdown",
   "metadata": {},
   "source": [
    "# Exercises 6\n",
    "This notebook contains exercies for the fifth meeting.\n",
    "These exercises are about plotting data.\n",
    "The data is based on lab exercises from courses at SDU.\n"
   ]
  },
  {
   "cell_type": "markdown",
   "metadata": {},
   "source": [
    "## More exercises with Matplotlib\n",
    "Some exercises about using Matplotlib.\n",
    "In some of the exercises we will also read data from files.\n",
    "Try remember back how this is done.\n",
    "\n",
    "- Hint: np.genfromtxt(file_location, skip_header=x, delimiter=y) can be an easy way to load a file into a numpy array."
   ]
  },
  {
   "cell_type": "markdown",
   "metadata": {},
   "source": [
    "## Ex 6.1 - Vapor pressure\n",
    "In [KE523](https://natfak.sdu.dk/laeseplan/kursusbeskrivelse.php?kursuskode=KE523) an experiment that measures the vapor pressure of two different liquids is performed.\n",
    "The data from the experiment can be found in:\n",
    "\n",
    "- data/dichloromethane_vaporpressure.csv\n",
    "- data/diethylether_vaporpressure.csv\n",
    "\n",
    "In KE523 we learn that the vapor pressure should follow the Clausius-Clapeyron equation:\n",
    "\n",
    "$$\\ln\\left(\\frac{p}{p^{\\circ}}\\right)=-\\frac{\\Delta_{\\mathrm{vap}}H^{\\circ}}{R}\\left(\\frac{1}{T}\\right)+\\frac{\\Delta_{\\mathrm{vap}}S^{\\circ}}{R}$$\n",
    "\n",
    "**Make a plot of the two data-sets, with $\\ln(p)$ on the y-axis and $\\frac{1}{T}$ on the x-axis.**\n",
    "Make the plot so nice, that you would use it in a report.\n",
    "We do not make any linear regression, because we have not learned about how to do this yet!\n",
    "\n",
    "- Hint: Remember to convert the temperature to Kelvin.\n",
    "- Hint: The \"real\" pressure it equal to the pressure + the reference pressure. The reference pressure can be seen in the data file to be 1075 mbar.\n",
    "- Hint: $p^\\circ$ is 1 bar. Remember to convert the unit of the pressure."
   ]
  },
  {
   "cell_type": "markdown",
   "metadata": {},
   "source": [
    "## Ex 6.2 - Freezing point depression\n",
    "In [KE523](https://natfak.sdu.dk/laeseplan/kursusbeskrivelse.php?kursuskode=KE523) an experiment where the freezing point depression is meassured  is performed.\n",
    "Four different experiments have been performed, and the data is stored in the files:\n",
    "\n",
    "- data/CaCl2_freezing_point_depression.csv\n",
    "- data/H2O2_freezing_point_depression.csv\n",
    "- data/KCl_freezing_point_depression.csv\n",
    "- data/NaCl_freezing_point_depression.csv\n",
    "\n",
    "In KE523 we learned that for these four solutions the koncentration could be found as:\n",
    "\n",
    "$$c_{\\mathrm{CaCl_{2}}}=\\nu\\frac{V_{\\mathrm{titration}}c_{\\mathrm{titration}}}{V_{\\mathrm{CaCl_{2}}}}=\\frac{3}{2}\\frac{V_{\\mathrm{titration}}0.1004\\,\\mathrm{M}}{V_{\\mathrm{CaCl_{2}}}}$$\n",
    "\n",
    "and,\n",
    "\n",
    "$$c_{\\mathrm{KCl}}=\\nu\\frac{V_{\\mathrm{titration}}c_{\\mathrm{titration}}}{V_{\\mathrm{KCl}}}=2\\frac{V_{\\mathrm{titration}}0.1004\\,\\mathrm{M}}{V_{\\mathrm{KCl}}}$$\n",
    "\n",
    "and,\n",
    "\n",
    "$$c_{\\mathrm{NaCl}}=\\nu\\frac{V_{\\mathrm{titration}}c_{\\mathrm{titration}}}{V_{\\mathrm{NaCl}}}=2\\frac{V_{\\mathrm{titration}}0.1004\\,\\mathrm{M}}{V_{\\mathrm{NaCl}}}$$\n",
    "\n",
    "and,\n",
    "\n",
    "$$c_{\\mathrm{H_{2}O_{2}}}=\\nu\\frac{V_{\\mathrm{titration}}c_{\\mathrm{titration}}}{V_{\\mathrm{H_{2}O_{2}}}}=2.5\\frac{V_{\\mathrm{titration}}0.02056\\,\\mathrm{M}}{V_{\\mathrm{H_{2}O_{2}}}}$$\n",
    "\n",
    "**Make a plot of the data where you plot $\\Delta T$ against the concentration.**\n",
    "This is exercise is about learning to use Matplotlib, so try make the plot nice.\n",
    "Try solve it with a singular plot and with four subplots."
   ]
  },
  {
   "cell_type": "markdown",
   "metadata": {},
   "source": [
    "## Ex 6.3 - Calculated UV-vis spectrum\n",
    "When doing excitation energy calculation with quantum mechanical methods, we often wont get a spectra. \n",
    "When doing te calculation we often an excitation energy and an oscillator strenght.\n",
    "From [Gussians website](http://gaussian.com/uvvisplot/) we can see that an artifical UV/vis-spectrum can be created from these numbers following the equation:\n",
    "\n",
    "$$\\varepsilon_{i}\\left(\\tilde{\\nu}\\right)=1.3062974\\times10^{8}\\frac{f_{i}\\times10^{-7}}{\\sigma}\\exp\\left(-\\left(\\frac{\\tilde{\\nu}-\\tilde{\\nu}_{i}}{\\sigma}\\right)^{2}\\right)$$\n",
    "\n",
    "The above equation is modified such that the units match the input data that will be given in this exercise.\n",
    "\n",
    "We can see that the above equation resemble a Guassian very much. A Gaussian is given as:\n",
    "\n",
    "$$f(x)=\\frac{N}{\\sigma}\\exp\\left(-\\left(\\frac{x-x_{\\mathrm{mean\\,value}}}{\\sigma}\\right)^{2}\\right)$$\n",
    "\n",
    "\n",
    "**Write a function that returns the value of a Guassian in the point x. The function should take $x$, $N$, $\\sigma$ and $x_{\\mathrm{mean\\,value}}$ as arguments.**\n",
    "\n",
    "**Try make some plots of your Gaussian function for different set of parameters**\n",
    "\n",
    "- Hint: You can make a numpy array of x value by np.linspace().\n",
    "- Hint: You can apply the function on a numpy array.\n",
    "\n",
    "Following the data given in the Gaussian example we have:\n",
    "\n",
    "$$\\tilde{\\nu}_{1}=\\frac{1}{284.45}\\,\\mathrm{nm}\\,\\,\\,\\,\\,\\,\\,\\,\\,f_{1}=0.0002$$\n",
    "\n",
    "$$\\tilde{\\nu}_{2}=\\frac{1}{192.80}\\,\\mathrm{nm}\\,\\,\\,\\,\\,\\,\\,\\,\\,f_{2}=0.5035$$\n",
    "\n",
    "$$\\tilde{\\nu}_{3}=\\frac{1}{154.07}\\,\\mathrm{nm}\\,\\,\\,\\,\\,\\,\\,\\,\\,f_{3}=0.0061$$\n",
    "\n",
    "**Try identify what is $N$ and $x_{\\mathrm{mean\\,value}}$ by comparing the Guassian with the first equation given in the exercise.**\n",
    "\n",
    "**Make a plot for each of the three exciations. Choose $\\sigma = 1/3099.6$.**\n",
    "\n",
    "The total UV-vis/spectrum can now be found as the sum of the three spectra you have already tried to make. \n",
    "I.e.:\n",
    "\n",
    "$$\\varepsilon_{\\mathrm{total}}\\left(\\tilde{\\nu}\\right)=\\varepsilon_{1}\\left(\\tilde{\\nu}\\right)+\\varepsilon_{2}\\left(\\tilde{\\nu}\\right)+\\varepsilon_{3}\\left(\\tilde{\\nu}\\right)$$\n",
    "\n",
    "**Try make a plot of the UV-vis spectrum using the above equation.**\n",
    "Make the plot nice."
   ]
  },
  {
   "cell_type": "markdown",
   "metadata": {},
   "source": []
  },
  {
   "cell_type": "markdown",
   "metadata": {},
   "source": []
  }
 ],
 "metadata": {
  "kernelspec": {
   "display_name": "Python 3",
   "language": "python",
   "name": "python3"
  },
  "language_info": {
   "codemirror_mode": {
    "name": "ipython",
    "version": 3
   },
   "file_extension": ".py",
   "mimetype": "text/x-python",
   "name": "python",
   "nbconvert_exporter": "python",
   "pygments_lexer": "ipython3",
   "version": "3.6.5"
  }
 },
 "nbformat": 4,
 "nbformat_minor": 2
}
