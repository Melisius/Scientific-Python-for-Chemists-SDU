{
 "cells": [
  {
   "cell_type": "markdown",
   "metadata": {},
   "source": [
    "## Ex 4.1 - Quadratic Equation Solver\n",
    "In this exercise we will write a quadratic equation solver.\n",
    "We know the equation form the exercise."
   ]
  },
  {
   "cell_type": "code",
   "execution_count": 3,
   "metadata": {},
   "outputs": [],
   "source": [
    "def quadratic_solver(a, b, c):\n",
    "    # The two solutions are calculated.\n",
    "    # ()**0.5 is the square root\n",
    "    x1 = -(b + (b**2 - 4*a*c)**0.5)\n",
    "    x2 = -(b - (b**2 - 4*a*c)**0.5)\n",
    "    return x1, x2"
   ]
  },
  {
   "cell_type": "code",
   "execution_count": 4,
   "metadata": {},
   "outputs": [
    {
     "name": "stdout",
     "output_type": "stream",
     "text": [
      "(-5.464101615137754, 1.4641016151377544)\n",
      "(-2.0, -0.0)\n"
     ]
    }
   ],
   "source": [
    "# Some results\n",
    "print(quadratic_solver(1, 2, -2))\n",
    "print(quadratic_solver(1, 1, 0))"
   ]
  },
  {
   "cell_type": "code",
   "execution_count": 5,
   "metadata": {},
   "outputs": [
    {
     "data": {
      "text/plain": [
       "((-1-1.7320508075688772j), (-0.9999999999999999+1.7320508075688772j))"
      ]
     },
     "execution_count": 5,
     "metadata": {},
     "output_type": "execute_result"
    }
   ],
   "source": [
    "quadratic_solver(1, 1, 1)"
   ]
  },
  {
   "cell_type": "markdown",
   "metadata": {},
   "source": [
    "We can see that complex numbers are a part of Python.\n",
    "But we are still to print an error if a real solution is undefined."
   ]
  },
  {
   "cell_type": "code",
   "execution_count": 11,
   "metadata": {},
   "outputs": [],
   "source": [
    "def quadratic_solver_2(a, b, c):\n",
    "    D = b**2 - 4*a*c\n",
    "    if D < 0: # Checking if a real solution exists\n",
    "        print(\"Error, no real solution\")\n",
    "    else:\n",
    "        # Since b**2 - 4*a*c is already calculted, it can be used here too.\n",
    "        x1 = -(b + (D)**0.5)\n",
    "        x2 = -(b - (D)**0.5)\n",
    "        return x1, x2"
   ]
  },
  {
   "cell_type": "code",
   "execution_count": 12,
   "metadata": {},
   "outputs": [
    {
     "name": "stdout",
     "output_type": "stream",
     "text": [
      "Error, no real solution\n"
     ]
    }
   ],
   "source": [
    "quadratic_solver_2(1, 1, 1)"
   ]
  },
  {
   "cell_type": "markdown",
   "metadata": {},
   "source": [
    "## Ex 4.2 - Pig Latin Translator\n",
    "In this exercise we will work with strings."
   ]
  },
  {
   "cell_type": "code",
   "execution_count": 53,
   "metadata": {},
   "outputs": [],
   "source": [
    "def pig_latin_translator(our_string):\n",
    "    # Making an empty list to store the pig latin words in\n",
    "    pig_latin_word = []\n",
    "    # Making a list of all the vowels. Could also have been a list with the\n",
    "    #  consonants. But this list is shorter.\n",
    "    vowels = [\"a\",\"e\",\"i\",\"o\",\"u\",\"y\"]\n",
    "    # Making our string into a list of words\n",
    "    word_list = our_string.split()\n",
    "    # Looping all the words\n",
    "    for word in word_list:\n",
    "        # Making a counter to count all the consonant comming before the\n",
    "        #  first vowel. Since it is under a for loop, it will be set to zero\n",
    "        #  again for every word.\n",
    "        number_consontants = 0\n",
    "        if word[0] not in vowels: # Checks if the first letter is a consonant.\n",
    "            for letter in word:\n",
    "                if letter not in vowels:\n",
    "                    number_consontants += 1\n",
    "                else:\n",
    "                    break\n",
    "        # Time to make the pig latin word\n",
    "        if number_consontants == 0:\n",
    "            pig_latin_word.append(word+\"way\")\n",
    "        else:\n",
    "            pig_latin_word.append(word[number_consontants:]+word[0:number_consontants]+\"ay\")\n",
    "            \n",
    "    return pig_latin_word"
   ]
  },
  {
   "cell_type": "code",
   "execution_count": 54,
   "metadata": {},
   "outputs": [
    {
     "name": "stdout",
     "output_type": "stream",
     "text": [
      "['uadraticQay', 'equationsway', 'ancay', 'ebay', 'olvedsay', 'ybay', 'away', 'ocesspray', 'ownknay', 'inway', 'ericanAmay', 'ishEnglay', 'asway', 'actoringfay', 'andway', 'inway', 'otherway', 'arietiesvay', 'ofway', 'ishEnglay', 'asway', 'actorising,fay', 'ybay', 'ompletingcay', 'ethay', 'uare,sqay', 'ybay', 'usingway', 'ethay', 'uadraticqay', 'ormula,fay', 'orway', 'ybay', 'aphing.gray']\n"
     ]
    }
   ],
   "source": [
    "some_string = \"Quadratic equations can be solved by a process known in American English as factoring and in other varieties of English as factorising, by completing the square, by using the quadratic formula, or by graphing.\"\n",
    "print(pig_latin_translator(some_string))"
   ]
  },
  {
   "cell_type": "markdown",
   "metadata": {},
   "source": [
    "We can see we have some unwanted behaviour, fx. \"uadraticQay\" and \"uare,sqay\". Now lets try to fix this."
   ]
  },
  {
   "cell_type": "code",
   "execution_count": 55,
   "metadata": {},
   "outputs": [],
   "source": [
    "def pig_latin_translator_2(our_string):\n",
    "    pig_latin_word = []\n",
    "    vowels = [\"a\",\"e\",\"i\",\"o\",\"u\",\"y\"]\n",
    "    special_char = [\",\",\".\"]\n",
    "    # We can use .lower() to make all letters lower case.\n",
    "    word_list = our_string.lower().split()\n",
    "    for word in word_list:\n",
    "        number_consontants = 0\n",
    "        check_special_char = 0 \n",
    "        if word[-1] in special_char:\n",
    "            # Here we check if there is a special character present.\n",
    "            # Then the variable check_special_char is set to one, so \n",
    "            #  we can remember for later in the code.\n",
    "            check_special_char = 1\n",
    "        if word[0] not in vowels:\n",
    "            for letter in word:\n",
    "                if letter not in vowels:\n",
    "                    number_consontants += 1\n",
    "                else:\n",
    "                    break\n",
    "        if number_consontants == 0 and check_special_char == 1:\n",
    "            # If we found a special char in the back of the word, we make sure to put it last\n",
    "            pig_latin_word.append(word[:-1]+\"way\"+word[-1])\n",
    "        elif number_consontants == 0:\n",
    "            pig_latin_word.append(word+\"way\")\n",
    "        elif check_special_char == 1:\n",
    "            pig_latin_word.append(word[number_consontants:-1]+word[0:number_consontants]+\"ay\"+word[-1])\n",
    "        else:\n",
    "            pig_latin_word.append(word[number_consontants:]+word[0:number_consontants]+\"ay\")\n",
    "            \n",
    "    return pig_latin_word"
   ]
  },
  {
   "cell_type": "code",
   "execution_count": 56,
   "metadata": {},
   "outputs": [
    {
     "name": "stdout",
     "output_type": "stream",
     "text": [
      "['uadraticqay', 'equationsway', 'ancay', 'ebay', 'olvedsay', 'ybay', 'away', 'ocesspray', 'ownknay', 'inway', 'americanway', 'englishway', 'asway', 'actoringfay', 'andway', 'inway', 'otherway', 'arietiesvay', 'ofway', 'englishway', 'asway', 'actorisingfay,', 'ybay', 'ompletingcay', 'ethay', 'uaresqay,', 'ybay', 'usingway', 'ethay', 'uadraticqay', 'ormulafay,', 'orway', 'ybay', 'aphinggray.']\n"
     ]
    }
   ],
   "source": [
    "some_string = \"Quadratic equations can be solved by a process known in American English as factoring and in other varieties of English as factorising, by completing the square, by using the quadratic formula, or by graphing.\"\n",
    "print(pig_latin_translator_2(some_string))"
   ]
  },
  {
   "cell_type": "markdown",
   "metadata": {},
   "source": [
    "## Ex 4.3 - Counting words"
   ]
  },
  {
   "cell_type": "code",
   "execution_count": 26,
   "metadata": {},
   "outputs": [],
   "source": [
    "# Loading in the text file\n",
    "file = open(\"data/wannabe.txt\")\n",
    "text = file.read()"
   ]
  },
  {
   "cell_type": "code",
   "execution_count": 31,
   "metadata": {},
   "outputs": [],
   "source": [
    "def word_counter(some_string):\n",
    "    word_list = some_string.split()\n",
    "    # We can use a dictionary to keep track of the number of different \n",
    "    #  words we have found\n",
    "    word_counter = {}\n",
    "    for word in word_list:\n",
    "        # Check if we have found word alrady.\n",
    "        #  If yes then we increase the count by one.\n",
    "        if word in word_counter:\n",
    "            word_counter[word] += 1\n",
    "        else:\n",
    "            # Else we make an entry for the word, in our dict.\n",
    "            word_counter[word] = 1\n",
    "    return word_counter"
   ]
  },
  {
   "cell_type": "code",
   "execution_count": 43,
   "metadata": {},
   "outputs": [
    {
     "name": "stdout",
     "output_type": "stream",
     "text": [
      "{'Ha': 1, 'ha': 6, 'Yo,': 1, \"I'll\": 6, 'tell': 8, 'you': 40, 'what': 17, 'I': 25, 'want,': 8, 'really,': 14, 'really': 12, 'want': 9, 'So': 4, 'me': 5, 'wanna,': 12, '(ha)': 12, 'wanna': 16, 'zigazig': 4, 'ah': 4, 'If': 11, 'my': 18, 'future,': 1, 'forget': 1, 'past': 1, 'get': 8, 'with': 8, 'me,': 3, 'better': 1, 'make': 1, 'it': 15, 'fast': 1, 'Now': 2, \"don't\": 1, 'go': 1, 'wasting': 1, 'precious': 1, 'time': 1, 'Get': 1, 'your': 8, 'act': 1, 'together': 1, 'we': 1, 'could': 1, 'be': 10, 'just': 1, 'fine': 1, 'lover,': 6, 'gotta': 5, 'friends': 3, '(Gotta': 3, 'friends)': 3, 'Make': 3, 'last': 4, 'forever,': 3, 'friendship': 3, 'never': 3, 'ends': 3, 'have': 3, 'got': 7, 'to': 6, 'give': 4, 'Taking': 3, 'is': 6, 'too': 3, 'easy,': 3, 'but': 3, \"that's\": 3, 'the': 4, 'way': 3, 'Oh,': 1, 'do': 1, 'think': 1, 'about': 1, 'that': 1, 'know': 1, 'how': 1, 'feel': 1, 'Say,': 1, 'can': 1, 'handle': 1, 'love,': 1, 'are': 1, 'for': 4, 'real': 2, '(Are': 1, 'real)': 1, \"won't\": 1, 'hasty,': 1, 'a': 4, 'try': 1, 'bug': 1, 'then': 1, 'say': 1, 'goodbye': 1, 'Yo': 1, \"(You've\": 2, 'give)': 2, 'So,': 1, \"here's\": 1, 'story': 1, 'from': 1, 'A': 1, 'Z': 1, 'You': 3, 'listen': 1, 'carefully': 1, 'We': 1, 'Em': 1, 'in': 2, 'place': 1, 'who': 2, 'likes': 2, 'face': 1, 'G': 1, 'like': 1, 'MC': 1, 'on': 1, 'Easy': 1, 'V': 1, \"doesn't\": 1, 'come': 1, 'free,': 1, \"she's\": 1, 'lady': 1, 'And': 1, 'as': 1, \"you'll\": 1, 'see': 1, 'Slam': 6, 'body': 6, 'down': 6, 'and': 6, 'wind': 5, 'all': 5, 'around': 5, 'lover': 2, 'gotta,': 4, 'Slam,': 1, 'slam,': 2, 'slam': 1, '(make': 1, 'forever)': 1, 'Ha,': 1, 'ha,': 3}\n"
     ]
    }
   ],
   "source": [
    "print(word_counter(text))"
   ]
  },
  {
   "cell_type": "markdown",
   "metadata": {},
   "source": [
    "We have the same problem as for the pig latin translator."
   ]
  },
  {
   "cell_type": "code",
   "execution_count": 46,
   "metadata": {},
   "outputs": [],
   "source": [
    "def word_counter_2(some_string):\n",
    "    word_list = some_string.lower().split()\n",
    "    word_counter = {}\n",
    "    special_char = [\",\",\".\",\"(\",\")\"]\n",
    "    for word in word_list:\n",
    "        check_special_char_back = 0\n",
    "        check_special_char_front = 0\n",
    "        # Checking for special chars\n",
    "        if word[-1] in special_char:\n",
    "            check_special_char_back = 1\n",
    "        if word[0] in special_char:\n",
    "            check_special_char_front = 1\n",
    "        \n",
    "        # Know only getting the part of the word without special chars.\n",
    "        if word[check_special_char_front:len(word)-check_special_char_back] in word_counter:\n",
    "            word_counter[word[check_special_char_front:len(word)-check_special_char_back]] += 1\n",
    "        else:\n",
    "            word_counter[word[check_special_char_front:len(word)-check_special_char_back]] = 1\n",
    "\n",
    "    return word_counter"
   ]
  },
  {
   "cell_type": "code",
   "execution_count": 47,
   "metadata": {},
   "outputs": [
    {
     "name": "stdout",
     "output_type": "stream",
     "text": [
      "{'ha': 23, 'yo': 2, \"i'll\": 6, 'tell': 8, 'you': 43, 'what': 17, 'i': 25, 'want': 17, 'really': 26, 'so': 5, 'me': 8, 'wanna': 28, 'zigazig': 4, 'ah': 4, 'if': 11, 'my': 18, 'future': 1, 'forget': 1, 'past': 1, 'get': 9, 'with': 8, 'better': 1, 'make': 5, 'it': 15, 'fast': 1, 'now': 2, \"don't\": 1, 'go': 1, 'wasting': 1, 'precious': 1, 'time': 1, 'your': 8, 'act': 1, 'together': 1, 'we': 2, 'could': 1, 'be': 10, 'just': 1, 'fine': 1, 'lover': 8, 'gotta': 12, 'friends': 6, 'last': 4, 'forever': 4, 'friendship': 3, 'never': 3, 'ends': 3, 'have': 3, 'got': 7, 'to': 6, 'give': 6, 'taking': 3, 'is': 6, 'too': 3, 'easy': 4, 'but': 3, \"that's\": 3, 'the': 4, 'way': 3, 'oh': 1, 'do': 1, 'think': 1, 'about': 1, 'that': 1, 'know': 1, 'how': 1, 'feel': 1, 'say': 2, 'can': 1, 'handle': 1, 'love': 1, 'are': 2, 'for': 4, 'real': 3, \"won't\": 1, 'hasty': 1, 'a': 5, 'try': 1, 'bug': 1, 'then': 1, 'goodbye': 1, \"you've\": 2, \"here's\": 1, 'story': 1, 'from': 1, 'z': 1, 'listen': 1, 'carefully': 1, 'em': 1, 'in': 2, 'place': 1, 'who': 2, 'likes': 2, 'face': 1, 'g': 1, 'like': 1, 'mc': 1, 'on': 1, 'v': 1, \"doesn't\": 1, 'come': 1, 'free': 1, \"she's\": 1, 'lady': 1, 'and': 7, 'as': 1, \"you'll\": 1, 'see': 1, 'slam': 10, 'body': 6, 'down': 6, 'wind': 5, 'all': 5, 'around': 5}\n"
     ]
    }
   ],
   "source": [
    "print(word_counter_2(text))"
   ]
  },
  {
   "cell_type": "markdown",
   "metadata": {},
   "source": [
    "## Ex 4.4 - Matrix Transposer"
   ]
  },
  {
   "cell_type": "code",
   "execution_count": 49,
   "metadata": {},
   "outputs": [],
   "source": [
    "import numpy as np\n",
    "\n",
    "def matrix_transposer(matrix):\n",
    "    # Making an empty matrix for later use\n",
    "    # len(matrix) is the size of the first dimension\n",
    "    # len(matrix[0]) is the size of the second dimension\n",
    "    output_matrix = np.zeros((len(matrix),len(matrix[0])))\n",
    "    for i in range(0, len(matrix)):\n",
    "        for j in range(0, len(matrix[0])):\n",
    "            # Now by the definition of matrix transpose\n",
    "            output_matrix[i,j] = matrix[j,i]\n",
    "    return output_matrix"
   ]
  },
  {
   "cell_type": "code",
   "execution_count": 51,
   "metadata": {},
   "outputs": [
    {
     "name": "stdout",
     "output_type": "stream",
     "text": [
      "[[2 3 1]\n",
      " [1 3 6]\n",
      " [6 7 6]]\n",
      "[[2. 1. 6.]\n",
      " [3. 3. 7.]\n",
      " [1. 6. 6.]]\n"
     ]
    }
   ],
   "source": [
    "A = np.array([[2,3,1],[1,3,6],[6,7,6]])\n",
    "print(A)\n",
    "print(matrix_transposer(A))"
   ]
  },
  {
   "cell_type": "markdown",
   "metadata": {},
   "source": [
    "## Ex 4.5 - Matrix Multiplier"
   ]
  },
  {
   "cell_type": "code",
   "execution_count": 60,
   "metadata": {},
   "outputs": [],
   "source": [
    "import numpy as np\n",
    "\n",
    "def matrix_multiplier(matrix_A, matrix_B):\n",
    "    matrix_C = np.zeros((len(matrix_A),len(matrix_B[0])))\n",
    "    for i in range(0, len(matrix_A)):\n",
    "        for j in range(0, len(matrix_B[0])):\n",
    "            for k in range(0, len(matrix_A[0])):\n",
    "                # From the definition of matrix multiplication\n",
    "                matrix_C[i,j] += matrix_A[i,k]*matrix_B[k,j]\n",
    "    return matrix_C"
   ]
  },
  {
   "cell_type": "code",
   "execution_count": 61,
   "metadata": {},
   "outputs": [
    {
     "name": "stdout",
     "output_type": "stream",
     "text": [
      "[[ 58.  64.]\n",
      " [139. 154.]]\n"
     ]
    }
   ],
   "source": [
    "A = np.array([[1,2,3],[4,5,6]])\n",
    "B = np.array([[7,8],[9,10],[11,12]])\n",
    "print(matrix_multiplier(A, B))"
   ]
  },
  {
   "cell_type": "code",
   "execution_count": 62,
   "metadata": {},
   "outputs": [
    {
     "ename": "IndexError",
     "evalue": "index 2 is out of bounds for axis 0 with size 2",
     "output_type": "error",
     "traceback": [
      "\u001b[0;31m---------------------------------------------------------------------------\u001b[0m",
      "\u001b[0;31mIndexError\u001b[0m                                Traceback (most recent call last)",
      "\u001b[0;32m<ipython-input-62-67100d5ba4ca>\u001b[0m in \u001b[0;36m<module>\u001b[0;34m()\u001b[0m\n\u001b[1;32m      2\u001b[0m \u001b[0mA\u001b[0m \u001b[0;34m=\u001b[0m \u001b[0mnp\u001b[0m\u001b[0;34m.\u001b[0m\u001b[0marray\u001b[0m\u001b[0;34m(\u001b[0m\u001b[0;34m[\u001b[0m\u001b[0;34m[\u001b[0m\u001b[0;36m1\u001b[0m\u001b[0;34m,\u001b[0m\u001b[0;36m2\u001b[0m\u001b[0;34m,\u001b[0m\u001b[0;36m3\u001b[0m\u001b[0;34m]\u001b[0m\u001b[0;34m,\u001b[0m\u001b[0;34m[\u001b[0m\u001b[0;36m4\u001b[0m\u001b[0;34m,\u001b[0m\u001b[0;36m5\u001b[0m\u001b[0;34m,\u001b[0m\u001b[0;36m6\u001b[0m\u001b[0;34m]\u001b[0m\u001b[0;34m]\u001b[0m\u001b[0;34m)\u001b[0m\u001b[0;34m\u001b[0m\u001b[0m\n\u001b[1;32m      3\u001b[0m \u001b[0mB\u001b[0m \u001b[0;34m=\u001b[0m \u001b[0mnp\u001b[0m\u001b[0;34m.\u001b[0m\u001b[0marray\u001b[0m\u001b[0;34m(\u001b[0m\u001b[0;34m[\u001b[0m\u001b[0;34m[\u001b[0m\u001b[0;36m7\u001b[0m\u001b[0;34m,\u001b[0m\u001b[0;36m8\u001b[0m\u001b[0;34m]\u001b[0m\u001b[0;34m,\u001b[0m\u001b[0;34m[\u001b[0m\u001b[0;36m9\u001b[0m\u001b[0;34m,\u001b[0m\u001b[0;36m10\u001b[0m\u001b[0;34m]\u001b[0m\u001b[0;34m]\u001b[0m\u001b[0;34m)\u001b[0m\u001b[0;34m\u001b[0m\u001b[0m\n\u001b[0;32m----> 4\u001b[0;31m \u001b[0mprint\u001b[0m\u001b[0;34m(\u001b[0m\u001b[0mmatrix_multiplier\u001b[0m\u001b[0;34m(\u001b[0m\u001b[0mA\u001b[0m\u001b[0;34m,\u001b[0m \u001b[0mB\u001b[0m\u001b[0;34m)\u001b[0m\u001b[0;34m)\u001b[0m\u001b[0;34m\u001b[0m\u001b[0m\n\u001b[0m",
      "\u001b[0;32m<ipython-input-60-a4dd5f82d74e>\u001b[0m in \u001b[0;36mmatrix_multiplier\u001b[0;34m(matrix_A, matrix_B)\u001b[0m\n\u001b[1;32m      7\u001b[0m             \u001b[0;32mfor\u001b[0m \u001b[0mk\u001b[0m \u001b[0;32min\u001b[0m \u001b[0mrange\u001b[0m\u001b[0;34m(\u001b[0m\u001b[0;36m0\u001b[0m\u001b[0;34m,\u001b[0m \u001b[0mlen\u001b[0m\u001b[0;34m(\u001b[0m\u001b[0mmatrix_A\u001b[0m\u001b[0;34m[\u001b[0m\u001b[0;36m0\u001b[0m\u001b[0;34m]\u001b[0m\u001b[0;34m)\u001b[0m\u001b[0;34m)\u001b[0m\u001b[0;34m:\u001b[0m\u001b[0;34m\u001b[0m\u001b[0m\n\u001b[1;32m      8\u001b[0m                 \u001b[0;31m# From the definition of matrix multiplication\u001b[0m\u001b[0;34m\u001b[0m\u001b[0;34m\u001b[0m\u001b[0m\n\u001b[0;32m----> 9\u001b[0;31m                 \u001b[0mmatrix_C\u001b[0m\u001b[0;34m[\u001b[0m\u001b[0mi\u001b[0m\u001b[0;34m,\u001b[0m\u001b[0mj\u001b[0m\u001b[0;34m]\u001b[0m \u001b[0;34m+=\u001b[0m \u001b[0mmatrix_A\u001b[0m\u001b[0;34m[\u001b[0m\u001b[0mi\u001b[0m\u001b[0;34m,\u001b[0m\u001b[0mk\u001b[0m\u001b[0;34m]\u001b[0m\u001b[0;34m*\u001b[0m\u001b[0mmatrix_B\u001b[0m\u001b[0;34m[\u001b[0m\u001b[0mk\u001b[0m\u001b[0;34m,\u001b[0m\u001b[0mj\u001b[0m\u001b[0;34m]\u001b[0m\u001b[0;34m\u001b[0m\u001b[0m\n\u001b[0m\u001b[1;32m     10\u001b[0m     \u001b[0;32mreturn\u001b[0m \u001b[0mmatrix_C\u001b[0m\u001b[0;34m\u001b[0m\u001b[0m\n",
      "\u001b[0;31mIndexError\u001b[0m: index 2 is out of bounds for axis 0 with size 2"
     ]
    }
   ],
   "source": [
    "# The function breaks if the matrices does not match in dimension.\n",
    "# Giving an error that can be hard to understand\n",
    "A = np.array([[1,2,3],[4,5,6]])\n",
    "B = np.array([[7,8],[9,10]])\n",
    "print(matrix_multiplier(A, B))"
   ]
  },
  {
   "cell_type": "code",
   "execution_count": 64,
   "metadata": {},
   "outputs": [],
   "source": [
    "import numpy as np\n",
    "\n",
    "def matrix_multiplier(matrix_A, matrix_B):\n",
    "    if len(matrix_A[0]) == len(matrix_B):\n",
    "        matrix_C = np.zeros((len(matrix_A),len(matrix_B[0])))\n",
    "        for i in range(0, len(matrix_A)):\n",
    "            for j in range(0, len(matrix_B[0])):\n",
    "                for k in range(0, len(matrix_A[0])):\n",
    "                    # From the definition of matrix multiplication\n",
    "                    matrix_C[i,j] += matrix_A[i,k]*matrix_B[k,j]\n",
    "        return matrix_C\n",
    "    else:\n",
    "        print(\"Error matrix dimensions does not match\")"
   ]
  },
  {
   "cell_type": "code",
   "execution_count": 65,
   "metadata": {},
   "outputs": [
    {
     "name": "stdout",
     "output_type": "stream",
     "text": [
      "Error matrix dimensions does not match\n",
      "None\n"
     ]
    }
   ],
   "source": [
    "A = np.array([[1,2,3],[4,5,6]])\n",
    "B = np.array([[7,8],[9,10]])\n",
    "print(matrix_multiplier(A, B))"
   ]
  },
  {
   "cell_type": "markdown",
   "metadata": {},
   "source": [
    "## Ex 4.6 - Brute Forcing Probabilities"
   ]
  },
  {
   "cell_type": "code",
   "execution_count": 71,
   "metadata": {},
   "outputs": [
    {
     "name": "stdout",
     "output_type": "stream",
     "text": [
      "0.3055555555555556\n"
     ]
    }
   ],
   "source": [
    "# Remember the last number is NOT included\n",
    "dice_rolls = []\n",
    "for i in range(1, 7):\n",
    "    for j in range(1, 7):\n",
    "        dice_rolls.append([i, j])\n",
    "\n",
    "number_sixes = 0\n",
    "for rolls in dice_rolls:\n",
    "    if 6 in rolls:\n",
    "        number_sixes +=1\n",
    "\n",
    "print(number_sixes/len(dice_rolls))"
   ]
  },
  {
   "cell_type": "code",
   "execution_count": 75,
   "metadata": {},
   "outputs": [
    {
     "name": "stdout",
     "output_type": "stream",
     "text": [
      "0.4018775720164609\n"
     ]
    }
   ],
   "source": [
    "dice_rolls = []\n",
    "for i in range(1, 7):\n",
    "    for j in range(1, 7):\n",
    "        for k in range(1, 7):\n",
    "            for l in range(1, 7):\n",
    "                for m in range(1, 7):\n",
    "                    for n in range(1, 7):\n",
    "                        dice_rolls.append([i, j, k, l, m, n])\n",
    "\n",
    "wanted_rolls = 0\n",
    "for rolls in dice_rolls:\n",
    "    number_sixes_in_roll = 0\n",
    "    # Finds how many sixes present in a given roll sequence.\n",
    "    for number in rolls:\n",
    "        if number == 6:\n",
    "            number_sixes_in_roll +=1\n",
    "    # If exactly one six is present, this is what we want\n",
    "    if number_sixes_in_roll == 1:\n",
    "        wanted_rolls += 1\n",
    "\n",
    "print(wanted_rolls/len(dice_rolls))"
   ]
  },
  {
   "cell_type": "markdown",
   "metadata": {},
   "source": [
    "## Ex 4.7 - Estimating $\\pi$ with random numbers"
   ]
  },
  {
   "cell_type": "code",
   "execution_count": 78,
   "metadata": {},
   "outputs": [
    {
     "name": "stdout",
     "output_type": "stream",
     "text": [
      "Pi estimate: 3.13912\n"
     ]
    }
   ],
   "source": [
    "import numpy as np\n",
    "\n",
    "number_random_numbers = 0\n",
    "number_inside_circle = 0\n",
    "# Number of times we pick a random number\n",
    "for i in range(100000):\n",
    "    number_random_numbers += 1\n",
    "    x_coordinate = np.random.uniform(-1, 1)\n",
    "    y_coordinate = np.random.uniform(-1, 1)\n",
    "    # Using the equation from the exercise\n",
    "    if (x_coordinate**2+y_coordinate**2)**0.5 <= 1:\n",
    "        number_inside_circle += 1\n",
    "\n",
    "print(\"Pi estimate:\",4*number_inside_circle/number_random_numbers)"
   ]
  },
  {
   "cell_type": "markdown",
   "metadata": {},
   "source": [
    "## Ex 4.8 - The birthday \"paradox\""
   ]
  },
  {
   "cell_type": "code",
   "execution_count": 89,
   "metadata": {},
   "outputs": [],
   "source": [
    "import numpy as np\n",
    "\n",
    "def birthday_problem_estimator(number_people):\n",
    "    number_same_birthday = 0\n",
    "    number_tries = 0\n",
    "    for i in range(10000):\n",
    "        number_tries += 1\n",
    "        birthdays = np.zeros(number_people)\n",
    "        # Assigning random birthdays\n",
    "        for j in range(0, len(birthdays)):\n",
    "            birthdays[j] = np.random.randint(1, 365)\n",
    "        # Now checking if same birthday\n",
    "        # The ranges are set so we dont check a person with itself\n",
    "        found_match_check = 0\n",
    "        for j in range(0, len(birthdays)-1):\n",
    "            for k in range(j+1, len(birthdays)):\n",
    "                if birthdays[j] == birthdays[k]:\n",
    "                    number_same_birthday += 1\n",
    "                    found_match_check = 1\n",
    "                if found_match_check == 1:\n",
    "                    # When we have found one match, then we dont \n",
    "                    #   need to search anymore\n",
    "                    break\n",
    "            if found_match_check == 1:\n",
    "                break\n",
    "        \n",
    "    return number_same_birthday/number_tries"
   ]
  },
  {
   "cell_type": "code",
   "execution_count": 90,
   "metadata": {},
   "outputs": [
    {
     "name": "stdout",
     "output_type": "stream",
     "text": [
      "0.0038\n",
      "0.507\n",
      "0.7131\n"
     ]
    }
   ],
   "source": [
    "print(birthday_problem_estimator(2))\n",
    "print(birthday_problem_estimator(23))\n",
    "print(birthday_problem_estimator(30))"
   ]
  },
  {
   "cell_type": "code",
   "execution_count": null,
   "metadata": {},
   "outputs": [],
   "source": []
  }
 ],
 "metadata": {
  "kernelspec": {
   "display_name": "Python 3",
   "language": "python",
   "name": "python3"
  },
  "language_info": {
   "codemirror_mode": {
    "name": "ipython",
    "version": 3
   },
   "file_extension": ".py",
   "mimetype": "text/x-python",
   "name": "python",
   "nbconvert_exporter": "python",
   "pygments_lexer": "ipython3",
   "version": "3.6.4"
  }
 },
 "nbformat": 4,
 "nbformat_minor": 2
}
