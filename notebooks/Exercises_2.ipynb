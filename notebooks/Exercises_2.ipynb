{
 "cells": [
  {
   "cell_type": "markdown",
   "metadata": {},
   "source": [
    "# Excercises 2\n",
    "This notebook contains excercies for the second meeting.\n",
    "The excercises are based heavily on excercises found at:\n",
    "- [Python Dictionary](https://www.w3resource.com/python-exercises/dictionary/)\n",
    "- [Python conditional statements and loops](https://www.w3resource.com/python-exercises/python-conditional-statements-and-loop-exercises.php)\n",
    "- [Python NumPy Array Object](https://www.w3resource.com/python-exercises/numpy/index.php)\n",
    "\n",
    "Suggested reading:\n",
    "- [Dictionaries](http://interactivepython.org/runestone/static/thinkcspy/Dictionaries/toctree.html) All of the sections\n",
    "- [NumPy: creating and manipulating numerical data](http://www.scipy-lectures.org/intro/numpy/index.html) Section 1.3.1 and 1.3.2\n",
    "- [Chapter 3: The NumPy Library](https://link-springer-com.proxy1-bib.sdu.dk/content/pdf/10.1007%2F978-1-4842-0958-5.pdf)\n",
    "\n",
    "The suggested reading is a mix of what we have talked about, and what we will talk about next time. "
   ]
  },
  {
   "cell_type": "markdown",
   "metadata": {},
   "source": [
    "## Dictionaries\n",
    "Some excercises about dicionaries"
   ]
  },
  {
   "cell_type": "markdown",
   "metadata": {},
   "source": [
    "### Ex 2.1\n",
    "To the dict = {0: 10, 1: 20} add  a key so you end up with {0: 10, 1: 20, 2: 30}"
   ]
  },
  {
   "cell_type": "markdown",
   "metadata": {},
   "source": [
    "### Ex 2.2\n",
    "Concatenate following dictionaries to create a new one.\n",
    "\n",
    "dic1={1:10, 2:20} \n",
    "\n",
    "dic2={3:30, 4:40} \n",
    "\n",
    "dic3={5:50,6:60}"
   ]
  },
  {
   "cell_type": "markdown",
   "metadata": {},
   "source": [
    "### Ex 2.3\n",
    "Write a code to check if a given key already exists in a dictionary."
   ]
  },
  {
   "cell_type": "markdown",
   "metadata": {},
   "source": [
    "### Ex 2.4\n",
    "Write a function to find the highest 3 values in a dictionary."
   ]
  },
  {
   "cell_type": "markdown",
   "metadata": {},
   "source": [
    "## Loops\n",
    "Some excercises about loops"
   ]
  },
  {
   "cell_type": "markdown",
   "metadata": {},
   "source": [
    "### Ex 2.5\n",
    "Write a function to get the [Fibonacci series](https://en.wikipedia.org/wiki/Fibonacci_number) between X to Y."
   ]
  },
  {
   "cell_type": "markdown",
   "metadata": {},
   "source": [
    "### Ex 2.6\n",
    "Write a function which iterates the integers from 1 to X, and print the number. For multiples of three print \"Fizz\" instead of the number and for the multiples of five print \"Buzz\". For numbers which are multiples of both three and five print \"FizzBuzz\"."
   ]
  },
  {
   "cell_type": "markdown",
   "metadata": {},
   "source": [
    "### Ex 2.7\n",
    "Write a function to create the multiplication table (from X to Y) of a number."
   ]
  },
  {
   "cell_type": "markdown",
   "metadata": {},
   "source": [
    "### Ex 2.8\n",
    "Write a function to print the first X prime numbers."
   ]
  },
  {
   "cell_type": "markdown",
   "metadata": {},
   "source": [
    "### Ex 2.9\n",
    "Write a function to calculate the factorial of n by recursion (we did this during the first meeting).\n",
    "\n",
    "Write a function to calculate the factorial of n by looping."
   ]
  },
  {
   "cell_type": "markdown",
   "metadata": {},
   "source": [
    "## Numpy\n",
    "Some beginning excercises about Numpy (read about Numpy in suggested reading)"
   ]
  },
  {
   "cell_type": "markdown",
   "metadata": {},
   "source": [
    "### Ex 2.10\n",
    "Convert the list, li = [12.23, 13.32, 100, 36.32], of numeric value into a one-dimensional NumPy array."
   ]
  },
  {
   "cell_type": "markdown",
   "metadata": {},
   "source": [
    "### Ex 2.11\n",
    "Create a 3x3 numpy array with values ranging from 2 to 10."
   ]
  },
  {
   "cell_type": "markdown",
   "metadata": {},
   "source": [
    "### Ex 2.12\n",
    "Create a 1D array with values ranging from 3 to 13 with a spacing of 0.01 between the elements."
   ]
  },
  {
   "cell_type": "markdown",
   "metadata": {},
   "source": [
    "### Ex 2.13\n",
    "Write a function to create a 2d array with 1 on the border and 0 inside."
   ]
  }
 ],
 "metadata": {
  "kernelspec": {
   "display_name": "Python 3",
   "language": "python",
   "name": "python3"
  },
  "language_info": {
   "codemirror_mode": {
    "name": "ipython",
    "version": 3
   },
   "file_extension": ".py",
   "mimetype": "text/x-python",
   "name": "python",
   "nbconvert_exporter": "python",
   "pygments_lexer": "ipython3",
   "version": "3.6.4"
  }
 },
 "nbformat": 4,
 "nbformat_minor": 2
}
