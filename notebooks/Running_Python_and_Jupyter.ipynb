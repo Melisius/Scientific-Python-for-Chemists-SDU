{
 "cells": [
  {
   "cell_type": "markdown",
   "metadata": {},
   "source": [
    "# Content:\n",
    "* [1. Opening Jupyter Notebook](#1.-Opening-Jupyter-Notebook)\n",
    "* [2. Errors](#2.-Errors)"
   ]
  },
  {
   "cell_type": "markdown",
   "metadata": {},
   "source": [
    "## 1. Opening Jupyter Notebook\n",
    "\n",
    "Now following the installation guide of the conda enviroment, we should be able to open Python through the Jupyter Notebook.\n",
    "\n",
    "* Open the Anaconda terminal (Find it by searching for \"Anaconda Prompt\" in programs).\n",
    "* In the Anaconda terminal type:\n",
    "\n",
    "> jupyter notebook\n",
    "\n",
    "If it dosen't recognizes the command \"jupyter\" go back to the \"How to install new packages\".\n",
    "\n",
    "* The terminal should now look like:\n",
    "![jupyter_in_prompt](data/pictures/jupyter_in_prompt.PNG)\n",
    "\n",
    "* To open the interface of the Jupyter notebook, open your favorite terminal and go type:\n",
    "\n",
    "> http://localhost:8888/tree\n",
    "\n",
    "* Navigate to the folder where you want to save your Notebooks/Python code. \n",
    "* To open a new Python file, click new and press Python 3. \n",
    "![jupyter_new_python_file](data/pictures/jupyter_new_python_file.PNG)"
   ]
  },
  {
   "cell_type": "markdown",
   "metadata": {},
   "source": [
    "## 2. Errors\n",
    "If you are trying to run Jupyter from a hidden directory you will get a **Error 404** in your browser, and you Anaconda terminal gives you an error that looks like \"[I 05:54:30.567 NotebookApp] Refusing to serve hidden directory, via 404 Error\".\n",
    "For a solution take a look at the following link [How to change the Jupyter start-up folder](https://stackoverflow.com/questions/35254852/how-to-change-the-jupyter-start-up-folder/36433389#36433389)\n",
    "\n",
    "The important answer in the above link is:\n",
    "\n",
    "- Use the jupyter notebook config file:\n",
    "\n",
    "- Open the Anaconda Prompt and type \"jupyter notebook --generate-config\".\n",
    "\n",
    "- This writes a file to C:\\Users\\username\\.jupyter\\jupyter_notebook_config.\n",
    "\n",
    "- Search for the following line: #c.NotebookApp.notebook_dir = ''\n",
    "\n",
    "- Replace by c.NotebookApp.notebook_dir = '/the/path/to/home/folder/'\n",
    "\n",
    "- Make sure you use forward slashes in your path and use /home/user/ instead of ~/ for your home directory,"
   ]
  }
 ],
 "metadata": {
  "kernelspec": {
   "display_name": "Python 3",
   "language": "python",
   "name": "python3"
  },
  "language_info": {
   "codemirror_mode": {
    "name": "ipython",
    "version": 3
   },
   "file_extension": ".py",
   "mimetype": "text/x-python",
   "name": "python",
   "nbconvert_exporter": "python",
   "pygments_lexer": "ipython3",
   "version": "3.6.4"
  }
 },
 "nbformat": 4,
 "nbformat_minor": 2
}
