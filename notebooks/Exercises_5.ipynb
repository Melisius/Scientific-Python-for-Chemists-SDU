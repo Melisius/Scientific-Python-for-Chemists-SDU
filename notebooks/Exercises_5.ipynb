{
 "cells": [
  {
   "cell_type": "markdown",
   "metadata": {},
   "source": [
    "# Exercises 5\n",
    "This notebook contains excercies for the fifth meeting.\n",
    "\n",
    "Suggested reading:\n",
    "- [1.4. Matplotlib: plotting](http://www.scipy-lectures.org/intro/matplotlib/index.html)\n",
    "- [Python Plotting With Matplotlib (Guide)](https://realpython.com/blog/python/python-matplotlib-guide/)\n",
    "- [Chapter 7: Data Visualization with matplotlib](https://link-springer-com.proxy1-bib.sdu.dk/content/pdf/10.1007%2F978-1-4842-0958-5.pdf). This chapter is very long because of the amount of detail. Only read this chapter if you really learn by reading.\n",
    "\n",
    "It can in general be very hard to remember all the different Matplotlib methods.\n",
    "When using Matplotlib [Google](https://www.google.com) is very much your friend!"
   ]
  },
  {
   "cell_type": "markdown",
   "metadata": {},
   "source": [
    "## Matplotlib\n",
    "In these exercises the focus is just using the different methods that comes with matplotlib. "
   ]
  },
  {
   "cell_type": "markdown",
   "metadata": {},
   "source": [
    "## Ex 5.1\n",
    "**Make a plot of a straight line.** \n",
    "\n",
    "You can choose the points how ever you want. \n",
    "Matplotlib can plot data from either lists of np.arrays.\n",
    "- hint: import matplotlib.pyplot as plt\n",
    "- hint: plt.plot(x, y)\n",
    "\n",
    "**Change the marker.**\n",
    "- hint: plot() takes an arugment maker, and an argument linestyle.\n",
    "\n",
    "**Change the marker color.**\n",
    "- hint: plot() takes an argument color.\n",
    "\n",
    "**Give the plot a title.**\n",
    "- hint: plt.title()\n",
    "\n",
    "**Give the x-axis and y-axis a label.**\n",
    "- hint: plt.xlabel()\n",
    "- hint: plt.ylabel()"
   ]
  },
  {
   "cell_type": "markdown",
   "metadata": {},
   "source": [
    "## Ex 5.2\n",
    "**Make a plot with two curves.**\n",
    "- hint: you can do plt.plot() twice.\n",
    "\n",
    "**Give the plot a legend.**\n",
    "- hint: plot() takes an argument label.\n",
    "- hint: plt.legend()"
   ]
  },
  {
   "cell_type": "markdown",
   "metadata": {},
   "source": [
    "## Ex 5.3\n",
    "**Make two plots in one figure.**\n",
    "- hint: Make a figure object. \"fig = plt.figure()\". For this object you can add subplots as \"plot1 = fig.add_subplot(1,2,1)\". These subplots can now be manipulated, like plot1.plot(x1, y1). Try play abit with the three numbers you have to give add_subplot(number1, number2, number3) to see what it does.\n",
    "\n",
    "**For both plots: Change the marker.**\n",
    "\n",
    "**For both plots:  Change the marker color.**\n",
    "\n",
    "**For both plots:  Give the plot a title.**\n",
    "- hint: For subplots, plot1.set_title()\n",
    "\n",
    "**For both plots:  Give the x-axis and y-axis a label.**\n",
    "- hint: For subplots, plot1.set_xlabel()\n",
    "- hint: For subplots, plot1.set_ylabel()"
   ]
  },
  {
   "cell_type": "markdown",
   "metadata": {},
   "source": [
    "## Ex 5.4\n",
    "**Make two plot in one figure with two curves.**\n",
    "\n",
    "**For both plots: Give the plot a legend.**\n",
    "- hint: plot1.legend()"
   ]
  },
  {
   "cell_type": "code",
   "execution_count": null,
   "metadata": {},
   "outputs": [],
   "source": []
  }
 ],
 "metadata": {
  "kernelspec": {
   "display_name": "Python 3",
   "language": "python",
   "name": "python3"
  },
  "language_info": {
   "codemirror_mode": {
    "name": "ipython",
    "version": 3
   },
   "file_extension": ".py",
   "mimetype": "text/x-python",
   "name": "python",
   "nbconvert_exporter": "python",
   "pygments_lexer": "ipython3",
   "version": "3.6.4"
  }
 },
 "nbformat": 4,
 "nbformat_minor": 2
}
