{
 "cells": [
  {
   "cell_type": "markdown",
   "metadata": {},
   "source": [
    "# Exercises 5\n",
    "This notebook contains exercies for the fifth meeting.\n",
    "These exercises are about plotting data.\n",
    "The data is based on lab exercises from courses at SDU.\n",
    "\n",
    "Suggested reading:\n",
    "- []()\n",
    "\n",
    "\n",
    "The suggested reading is a mix of what we have talked about, and what we will talk about next time."
   ]
  },
  {
   "cell_type": "markdown",
   "metadata": {},
   "source": [
    "## More exercises with Matplotlib\n",
    "Some exercises about using Matplotlib. \n",
    "Now that we have been through the basic of Python, and have looked abit on the Matplotlib library, it is time to do exercises that are helpful for making plots that could be used in reports for courses."
   ]
  },
  {
   "cell_type": "code",
   "execution_count": null,
   "metadata": {},
   "outputs": [],
   "source": []
  }
 ],
 "metadata": {
  "kernelspec": {
   "display_name": "Python 3",
   "language": "python",
   "name": "python3"
  },
  "language_info": {
   "codemirror_mode": {
    "name": "ipython",
    "version": 3
   },
   "file_extension": ".py",
   "mimetype": "text/x-python",
   "name": "python",
   "nbconvert_exporter": "python",
   "pygments_lexer": "ipython3",
   "version": "3.6.4"
  }
 },
 "nbformat": 4,
 "nbformat_minor": 2
}
