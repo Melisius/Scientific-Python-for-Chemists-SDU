{
 "cells": [
  {
   "cell_type": "markdown",
   "metadata": {},
   "source": [
    "# Content\n",
    "* Motivation\n",
    "* Install nmrglue\n",
    "* Plotting 1D spectra\n",
    "\n",
    "data used in this notebook is taken from [nmrglue's documentation](http://nmrglue.readthedocs.io/en/latest/examples/index.html)"
   ]
  },
  {
   "cell_type": "markdown",
   "metadata": {},
   "source": [
    "## Motivation\n",
    "\n",
    "nmrglue is a Python package to analyse NMR data through Python. On [nmrglue's Github](https://github.com/jjhelmus/nmrglue) it is described as:\n",
    "\n",
    "> nmrglue provides a number of common functions for processing NMR data such as apodization, spectral shifting, Fourier and other transformations, baseline smoothing and flattening, and linear prediction. In addition new processing schemes can be implemented easily using the nmrglue provided functions and the multitude of numerical routines provided by the Numpy and Scipy packages.\n",
    "\n",
    "> When used in conjunction with the matplotlib (or other) python plotting library nmrglue can be used to create publication quality figures of NMR spectrum or examine data interactively.\n",
    "\n",
    "nmrglue also provides [documentation](http://nmrglue.readthedocs.io/en/latest/index.html) and have a general [webpage](http://www.nmrglue.com/)."
   ]
  },
  {
   "cell_type": "markdown",
   "metadata": {},
   "source": [
    "## Installation of nmrglue\n",
    "\n",
    "For the installation of nmrglue we will use another way than the \"conda install\" previously introduced. For \"nmrglue\" we will use pip. In the Anaconda terminal type in:\n",
    "\n",
    "> pip install nmrglue\n",
    "\n",
    "and then type,\n",
    "\n",
    "> y\n",
    "\n",
    "Now the package should install. After the installation is complete, we can import it like any other Python package."
   ]
  },
  {
   "cell_type": "code",
   "execution_count": 14,
   "metadata": {},
   "outputs": [
    {
     "data": {
      "image/png": "[encoded data removed]",
      "text/plain": [
       "<matplotlib.figure.Figure at 0x7f48d82f9048>"
      ]
     },
     "metadata": {},
     "output_type": "display_data"
    }
   ],
   "source": [
    "import nmrglue as ng\n",
    "import matplotlib.pyplot as plt\n",
    "import nmrglue as np\n",
    "\n",
    "# read in the bruker formatted data\n",
    "dic, data = ng.bruker.read('data/expnmr_00001_1')\n",
    "\n",
    "# remove the digital filter\n",
    "data = ng.bruker.remove_digital_filter(dic, data)\n",
    "\n",
    "# process the spectrum\n",
    "data = ng.proc_base.zf_size(data, 32768)    # zero fill to 32768 points\n",
    "data = ng.proc_base.fft(data)               # Fourier transform\n",
    "data = ng.proc_base.ps(data, p0=-50.0)      # phase correction\n",
    "data = ng.proc_base.di(data)                # discard the imaginaries\n",
    "data = ng.proc_base.rev(data)               # reverse the data\n",
    "\n",
    "fig = plt.figure()\n",
    "ax = fig.add_subplot(111)\n",
    "ax.plot(data[20000:25000])\n",
    "plt.show()"
   ]
  },
  {
   "cell_type": "code",
   "execution_count": null,
   "metadata": {},
   "outputs": [],
   "source": []
  }
 ],
 "metadata": {
  "kernelspec": {
   "display_name": "Python 3",
   "language": "python",
   "name": "python3"
  },
  "language_info": {
   "codemirror_mode": {
    "name": "ipython",
    "version": 3
   },
   "file_extension": ".py",
   "mimetype": "text/x-python",
   "name": "python",
   "nbconvert_exporter": "python",
   "pygments_lexer": "ipython3",
   "version": "3.6.3"
  }
 },
 "nbformat": 4,
 "nbformat_minor": 2
}
